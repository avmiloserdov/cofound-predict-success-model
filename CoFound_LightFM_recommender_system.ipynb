{
  "nbformat": 4,
  "nbformat_minor": 0,
  "metadata": {
    "colab": {
      "name": "CoFound_LightFM_recommender_system.ipynb",
      "provenance": [],
      "collapsed_sections": []
    },
    "kernelspec": {
      "name": "python3",
      "display_name": "Python 3"
    },
    "language_info": {
      "name": "python"
    }
  },
  "cells": [
    {
      "cell_type": "code",
      "source": [
        "!pip install LightFM"
      ],
      "metadata": {
        "id": "6b8cMfEzS_6T",
        "colab": {
          "base_uri": "https://localhost:8080/"
        },
        "outputId": "04b99f2e-def5-4e8d-8608-ebb75f7d1586"
      },
      "execution_count": null,
      "outputs": [
        {
          "output_type": "stream",
          "name": "stdout",
          "text": [
            "Collecting LightFM\n",
            "  Downloading lightfm-1.16.tar.gz (310 kB)\n",
            "\u001b[?25l\r\u001b[K     |█                               | 10 kB 23.7 MB/s eta 0:00:01\r\u001b[K     |██▏                             | 20 kB 27.0 MB/s eta 0:00:01\r\u001b[K     |███▏                            | 30 kB 31.7 MB/s eta 0:00:01\r\u001b[K     |████▎                           | 40 kB 11.4 MB/s eta 0:00:01\r\u001b[K     |█████▎                          | 51 kB 12.8 MB/s eta 0:00:01\r\u001b[K     |██████▍                         | 61 kB 14.8 MB/s eta 0:00:01\r\u001b[K     |███████▍                        | 71 kB 9.5 MB/s eta 0:00:01\r\u001b[K     |████████▌                       | 81 kB 8.7 MB/s eta 0:00:01\r\u001b[K     |█████████▌                      | 92 kB 9.5 MB/s eta 0:00:01\r\u001b[K     |██████████▋                     | 102 kB 10.4 MB/s eta 0:00:01\r\u001b[K     |███████████▋                    | 112 kB 10.4 MB/s eta 0:00:01\r\u001b[K     |████████████▊                   | 122 kB 10.4 MB/s eta 0:00:01\r\u001b[K     |█████████████▊                  | 133 kB 10.4 MB/s eta 0:00:01\r\u001b[K     |██████████████▉                 | 143 kB 10.4 MB/s eta 0:00:01\r\u001b[K     |███████████████▉                | 153 kB 10.4 MB/s eta 0:00:01\r\u001b[K     |█████████████████               | 163 kB 10.4 MB/s eta 0:00:01\r\u001b[K     |██████████████████              | 174 kB 10.4 MB/s eta 0:00:01\r\u001b[K     |███████████████████             | 184 kB 10.4 MB/s eta 0:00:01\r\u001b[K     |████████████████████            | 194 kB 10.4 MB/s eta 0:00:01\r\u001b[K     |█████████████████████▏          | 204 kB 10.4 MB/s eta 0:00:01\r\u001b[K     |██████████████████████▏         | 215 kB 10.4 MB/s eta 0:00:01\r\u001b[K     |███████████████████████▎        | 225 kB 10.4 MB/s eta 0:00:01\r\u001b[K     |████████████████████████▎       | 235 kB 10.4 MB/s eta 0:00:01\r\u001b[K     |█████████████████████████▍      | 245 kB 10.4 MB/s eta 0:00:01\r\u001b[K     |██████████████████████████▍     | 256 kB 10.4 MB/s eta 0:00:01\r\u001b[K     |███████████████████████████▌    | 266 kB 10.4 MB/s eta 0:00:01\r\u001b[K     |████████████████████████████▌   | 276 kB 10.4 MB/s eta 0:00:01\r\u001b[K     |█████████████████████████████▋  | 286 kB 10.4 MB/s eta 0:00:01\r\u001b[K     |██████████████████████████████▋ | 296 kB 10.4 MB/s eta 0:00:01\r\u001b[K     |███████████████████████████████▊| 307 kB 10.4 MB/s eta 0:00:01\r\u001b[K     |████████████████████████████████| 310 kB 10.4 MB/s \n",
            "\u001b[?25hRequirement already satisfied: numpy in /usr/local/lib/python3.7/dist-packages (from LightFM) (1.21.6)\n",
            "Requirement already satisfied: scipy>=0.17.0 in /usr/local/lib/python3.7/dist-packages (from LightFM) (1.4.1)\n",
            "Requirement already satisfied: requests in /usr/local/lib/python3.7/dist-packages (from LightFM) (2.23.0)\n",
            "Requirement already satisfied: scikit-learn in /usr/local/lib/python3.7/dist-packages (from LightFM) (1.0.2)\n",
            "Requirement already satisfied: chardet<4,>=3.0.2 in /usr/local/lib/python3.7/dist-packages (from requests->LightFM) (3.0.4)\n",
            "Requirement already satisfied: idna<3,>=2.5 in /usr/local/lib/python3.7/dist-packages (from requests->LightFM) (2.10)\n",
            "Requirement already satisfied: urllib3!=1.25.0,!=1.25.1,<1.26,>=1.21.1 in /usr/local/lib/python3.7/dist-packages (from requests->LightFM) (1.24.3)\n",
            "Requirement already satisfied: certifi>=2017.4.17 in /usr/local/lib/python3.7/dist-packages (from requests->LightFM) (2021.10.8)\n",
            "Requirement already satisfied: joblib>=0.11 in /usr/local/lib/python3.7/dist-packages (from scikit-learn->LightFM) (1.1.0)\n",
            "Requirement already satisfied: threadpoolctl>=2.0.0 in /usr/local/lib/python3.7/dist-packages (from scikit-learn->LightFM) (3.1.0)\n",
            "Building wheels for collected packages: LightFM\n",
            "  Building wheel for LightFM (setup.py) ... \u001b[?25l\u001b[?25hdone\n",
            "  Created wheel for LightFM: filename=lightfm-1.16-cp37-cp37m-linux_x86_64.whl size=697436 sha256=640c2be5bdb9560d8cd186370cc8944d090b6b63c1d463bc310138680b6450db\n",
            "  Stored in directory: /root/.cache/pip/wheels/f8/56/28/5772a3bd3413d65f03aa452190b00898b680b10028a1021914\n",
            "Successfully built LightFM\n",
            "Installing collected packages: LightFM\n",
            "Successfully installed LightFM-1.16\n"
          ]
        }
      ]
    },
    {
      "cell_type": "code",
      "execution_count": null,
      "metadata": {
        "id": "zUco0m727kVa"
      },
      "outputs": [],
      "source": [
        "import pandas as pd\n",
        "import scipy.sparse\n",
        "import numpy as np\n",
        "from scipy.sparse import csr_matrix\n",
        "from lightfm import LightFM\n",
        "from lightfm.evaluation import precision_at_k\n",
        "from lightfm.evaluation import auc_score"
      ]
    },
    {
      "cell_type": "code",
      "source": [
        "users = pd.read_csv('users.csv')\n",
        "projects = pd.read_csv('projects.csv')"
      ],
      "metadata": {
        "id": "OpQPz3yD7ocM"
      },
      "execution_count": null,
      "outputs": []
    },
    {
      "cell_type": "code",
      "source": [
        "user_behaviour = pd.merge(users, projects, how='cross')\n",
        "user_behaviour['user_id'] = np.random.uniform(size=19266)*1000\n",
        "user_behaviour['user_id'] = user_behaviour['user_id'].astype(int)\n",
        "user_behaviour[56:76]"
      ],
      "metadata": {
        "id": "QJVjIk9l7_T8",
        "colab": {
          "base_uri": "https://localhost:8080/",
          "height": 676
        },
        "outputId": "07f30356-ade1-4849-df62-8e01b8d77da0"
      },
      "execution_count": null,
      "outputs": [
        {
          "output_type": "execute_result",
          "data": {
            "text/plain": [
              "    user_id  event_type  project_id  category  main_category\n",
              "56      318           1  1269204577         3              3\n",
              "57      496           2    10945100         6              1\n",
              "58      731           2  1273008525        10              2\n",
              "59      878           2  1052830150         5              3\n",
              "60      594           2  1447066521         3              3\n",
              "61       44           2  1376879513         8              3\n",
              "62      501           2    11967611         7              1\n",
              "63       40           2  1534567375         5              3\n",
              "64      932           2  1516312063         6              1\n",
              "65      235           2  1537663234         3              3\n",
              "66      610           2  1398485609         6              1\n",
              "67      495           2  1030448552         8              3\n",
              "68      876           2  1175612160         3              3\n",
              "69      416           2  1186358578         6              1\n",
              "70      691           2  1560371873         2              2\n",
              "71      500           2  1411299105         6              1\n",
              "72      824           2  1382999730         3              3\n",
              "73      167           2  1415205556         7              1\n",
              "74      190           2  1049992157         1              1\n",
              "75      433           2  1269204577         3              3"
            ],
            "text/html": [
              "\n",
              "  <div id=\"df-3a95ecf1-6926-4595-9ac4-213000a6cde0\">\n",
              "    <div class=\"colab-df-container\">\n",
              "      <div>\n",
              "<style scoped>\n",
              "    .dataframe tbody tr th:only-of-type {\n",
              "        vertical-align: middle;\n",
              "    }\n",
              "\n",
              "    .dataframe tbody tr th {\n",
              "        vertical-align: top;\n",
              "    }\n",
              "\n",
              "    .dataframe thead th {\n",
              "        text-align: right;\n",
              "    }\n",
              "</style>\n",
              "<table border=\"1\" class=\"dataframe\">\n",
              "  <thead>\n",
              "    <tr style=\"text-align: right;\">\n",
              "      <th></th>\n",
              "      <th>user_id</th>\n",
              "      <th>event_type</th>\n",
              "      <th>project_id</th>\n",
              "      <th>category</th>\n",
              "      <th>main_category</th>\n",
              "    </tr>\n",
              "  </thead>\n",
              "  <tbody>\n",
              "    <tr>\n",
              "      <th>56</th>\n",
              "      <td>318</td>\n",
              "      <td>1</td>\n",
              "      <td>1269204577</td>\n",
              "      <td>3</td>\n",
              "      <td>3</td>\n",
              "    </tr>\n",
              "    <tr>\n",
              "      <th>57</th>\n",
              "      <td>496</td>\n",
              "      <td>2</td>\n",
              "      <td>10945100</td>\n",
              "      <td>6</td>\n",
              "      <td>1</td>\n",
              "    </tr>\n",
              "    <tr>\n",
              "      <th>58</th>\n",
              "      <td>731</td>\n",
              "      <td>2</td>\n",
              "      <td>1273008525</td>\n",
              "      <td>10</td>\n",
              "      <td>2</td>\n",
              "    </tr>\n",
              "    <tr>\n",
              "      <th>59</th>\n",
              "      <td>878</td>\n",
              "      <td>2</td>\n",
              "      <td>1052830150</td>\n",
              "      <td>5</td>\n",
              "      <td>3</td>\n",
              "    </tr>\n",
              "    <tr>\n",
              "      <th>60</th>\n",
              "      <td>594</td>\n",
              "      <td>2</td>\n",
              "      <td>1447066521</td>\n",
              "      <td>3</td>\n",
              "      <td>3</td>\n",
              "    </tr>\n",
              "    <tr>\n",
              "      <th>61</th>\n",
              "      <td>44</td>\n",
              "      <td>2</td>\n",
              "      <td>1376879513</td>\n",
              "      <td>8</td>\n",
              "      <td>3</td>\n",
              "    </tr>\n",
              "    <tr>\n",
              "      <th>62</th>\n",
              "      <td>501</td>\n",
              "      <td>2</td>\n",
              "      <td>11967611</td>\n",
              "      <td>7</td>\n",
              "      <td>1</td>\n",
              "    </tr>\n",
              "    <tr>\n",
              "      <th>63</th>\n",
              "      <td>40</td>\n",
              "      <td>2</td>\n",
              "      <td>1534567375</td>\n",
              "      <td>5</td>\n",
              "      <td>3</td>\n",
              "    </tr>\n",
              "    <tr>\n",
              "      <th>64</th>\n",
              "      <td>932</td>\n",
              "      <td>2</td>\n",
              "      <td>1516312063</td>\n",
              "      <td>6</td>\n",
              "      <td>1</td>\n",
              "    </tr>\n",
              "    <tr>\n",
              "      <th>65</th>\n",
              "      <td>235</td>\n",
              "      <td>2</td>\n",
              "      <td>1537663234</td>\n",
              "      <td>3</td>\n",
              "      <td>3</td>\n",
              "    </tr>\n",
              "    <tr>\n",
              "      <th>66</th>\n",
              "      <td>610</td>\n",
              "      <td>2</td>\n",
              "      <td>1398485609</td>\n",
              "      <td>6</td>\n",
              "      <td>1</td>\n",
              "    </tr>\n",
              "    <tr>\n",
              "      <th>67</th>\n",
              "      <td>495</td>\n",
              "      <td>2</td>\n",
              "      <td>1030448552</td>\n",
              "      <td>8</td>\n",
              "      <td>3</td>\n",
              "    </tr>\n",
              "    <tr>\n",
              "      <th>68</th>\n",
              "      <td>876</td>\n",
              "      <td>2</td>\n",
              "      <td>1175612160</td>\n",
              "      <td>3</td>\n",
              "      <td>3</td>\n",
              "    </tr>\n",
              "    <tr>\n",
              "      <th>69</th>\n",
              "      <td>416</td>\n",
              "      <td>2</td>\n",
              "      <td>1186358578</td>\n",
              "      <td>6</td>\n",
              "      <td>1</td>\n",
              "    </tr>\n",
              "    <tr>\n",
              "      <th>70</th>\n",
              "      <td>691</td>\n",
              "      <td>2</td>\n",
              "      <td>1560371873</td>\n",
              "      <td>2</td>\n",
              "      <td>2</td>\n",
              "    </tr>\n",
              "    <tr>\n",
              "      <th>71</th>\n",
              "      <td>500</td>\n",
              "      <td>2</td>\n",
              "      <td>1411299105</td>\n",
              "      <td>6</td>\n",
              "      <td>1</td>\n",
              "    </tr>\n",
              "    <tr>\n",
              "      <th>72</th>\n",
              "      <td>824</td>\n",
              "      <td>2</td>\n",
              "      <td>1382999730</td>\n",
              "      <td>3</td>\n",
              "      <td>3</td>\n",
              "    </tr>\n",
              "    <tr>\n",
              "      <th>73</th>\n",
              "      <td>167</td>\n",
              "      <td>2</td>\n",
              "      <td>1415205556</td>\n",
              "      <td>7</td>\n",
              "      <td>1</td>\n",
              "    </tr>\n",
              "    <tr>\n",
              "      <th>74</th>\n",
              "      <td>190</td>\n",
              "      <td>2</td>\n",
              "      <td>1049992157</td>\n",
              "      <td>1</td>\n",
              "      <td>1</td>\n",
              "    </tr>\n",
              "    <tr>\n",
              "      <th>75</th>\n",
              "      <td>433</td>\n",
              "      <td>2</td>\n",
              "      <td>1269204577</td>\n",
              "      <td>3</td>\n",
              "      <td>3</td>\n",
              "    </tr>\n",
              "  </tbody>\n",
              "</table>\n",
              "</div>\n",
              "      <button class=\"colab-df-convert\" onclick=\"convertToInteractive('df-3a95ecf1-6926-4595-9ac4-213000a6cde0')\"\n",
              "              title=\"Convert this dataframe to an interactive table.\"\n",
              "              style=\"display:none;\">\n",
              "        \n",
              "  <svg xmlns=\"http://www.w3.org/2000/svg\" height=\"24px\"viewBox=\"0 0 24 24\"\n",
              "       width=\"24px\">\n",
              "    <path d=\"M0 0h24v24H0V0z\" fill=\"none\"/>\n",
              "    <path d=\"M18.56 5.44l.94 2.06.94-2.06 2.06-.94-2.06-.94-.94-2.06-.94 2.06-2.06.94zm-11 1L8.5 8.5l.94-2.06 2.06-.94-2.06-.94L8.5 2.5l-.94 2.06-2.06.94zm10 10l.94 2.06.94-2.06 2.06-.94-2.06-.94-.94-2.06-.94 2.06-2.06.94z\"/><path d=\"M17.41 7.96l-1.37-1.37c-.4-.4-.92-.59-1.43-.59-.52 0-1.04.2-1.43.59L10.3 9.45l-7.72 7.72c-.78.78-.78 2.05 0 2.83L4 21.41c.39.39.9.59 1.41.59.51 0 1.02-.2 1.41-.59l7.78-7.78 2.81-2.81c.8-.78.8-2.07 0-2.86zM5.41 20L4 18.59l7.72-7.72 1.47 1.35L5.41 20z\"/>\n",
              "  </svg>\n",
              "      </button>\n",
              "      \n",
              "  <style>\n",
              "    .colab-df-container {\n",
              "      display:flex;\n",
              "      flex-wrap:wrap;\n",
              "      gap: 12px;\n",
              "    }\n",
              "\n",
              "    .colab-df-convert {\n",
              "      background-color: #E8F0FE;\n",
              "      border: none;\n",
              "      border-radius: 50%;\n",
              "      cursor: pointer;\n",
              "      display: none;\n",
              "      fill: #1967D2;\n",
              "      height: 32px;\n",
              "      padding: 0 0 0 0;\n",
              "      width: 32px;\n",
              "    }\n",
              "\n",
              "    .colab-df-convert:hover {\n",
              "      background-color: #E2EBFA;\n",
              "      box-shadow: 0px 1px 2px rgba(60, 64, 67, 0.3), 0px 1px 3px 1px rgba(60, 64, 67, 0.15);\n",
              "      fill: #174EA6;\n",
              "    }\n",
              "\n",
              "    [theme=dark] .colab-df-convert {\n",
              "      background-color: #3B4455;\n",
              "      fill: #D2E3FC;\n",
              "    }\n",
              "\n",
              "    [theme=dark] .colab-df-convert:hover {\n",
              "      background-color: #434B5C;\n",
              "      box-shadow: 0px 1px 3px 1px rgba(0, 0, 0, 0.15);\n",
              "      filter: drop-shadow(0px 1px 2px rgba(0, 0, 0, 0.3));\n",
              "      fill: #FFFFFF;\n",
              "    }\n",
              "  </style>\n",
              "\n",
              "      <script>\n",
              "        const buttonEl =\n",
              "          document.querySelector('#df-3a95ecf1-6926-4595-9ac4-213000a6cde0 button.colab-df-convert');\n",
              "        buttonEl.style.display =\n",
              "          google.colab.kernel.accessAllowed ? 'block' : 'none';\n",
              "\n",
              "        async function convertToInteractive(key) {\n",
              "          const element = document.querySelector('#df-3a95ecf1-6926-4595-9ac4-213000a6cde0');\n",
              "          const dataTable =\n",
              "            await google.colab.kernel.invokeFunction('convertToInteractive',\n",
              "                                                     [key], {});\n",
              "          if (!dataTable) return;\n",
              "\n",
              "          const docLinkHtml = 'Like what you see? Visit the ' +\n",
              "            '<a target=\"_blank\" href=https://colab.research.google.com/notebooks/data_table.ipynb>data table notebook</a>'\n",
              "            + ' to learn more about interactive tables.';\n",
              "          element.innerHTML = '';\n",
              "          dataTable['output_type'] = 'display_data';\n",
              "          await google.colab.output.renderOutput(dataTable, element);\n",
              "          const docLink = document.createElement('div');\n",
              "          docLink.innerHTML = docLinkHtml;\n",
              "          element.appendChild(docLink);\n",
              "        }\n",
              "      </script>\n",
              "    </div>\n",
              "  </div>\n",
              "  "
            ]
          },
          "metadata": {},
          "execution_count": 4
        }
      ]
    },
    {
      "cell_type": "code",
      "source": [
        "print(user_behaviour.shape)"
      ],
      "metadata": {
        "colab": {
          "base_uri": "https://localhost:8080/"
        },
        "id": "-CzpundA8485",
        "outputId": "daafeba3-3aa1-43d1-cc67-068ac5b7b3f3"
      },
      "execution_count": null,
      "outputs": [
        {
          "output_type": "stream",
          "name": "stdout",
          "text": [
            "(19266, 5)\n"
          ]
        }
      ]
    },
    {
      "cell_type": "code",
      "source": [
        "#from pathlib import Path  \n",
        "#filepath = Path('/content/user_behaviour.csv')  \n",
        "#user_behaviour.to_csv(filepath)"
      ],
      "metadata": {
        "id": "S-Dcm_NL9DRm"
      },
      "execution_count": null,
      "outputs": []
    },
    {
      "cell_type": "code",
      "source": [
        "user_behaviour.groupby('event_type').size()"
      ],
      "metadata": {
        "colab": {
          "base_uri": "https://localhost:8080/"
        },
        "id": "4U8lCn2v-erj",
        "outputId": "7d221757-4ba5-4a98-ed16-98d2eae2c0fb"
      },
      "execution_count": null,
      "outputs": [
        {
          "output_type": "execute_result",
          "data": {
            "text/plain": [
              "event_type\n",
              "0    11780\n",
              "1     5320\n",
              "2     1767\n",
              "3      399\n",
              "dtype: int64"
            ]
          },
          "metadata": {},
          "execution_count": 7
        }
      ]
    },
    {
      "cell_type": "code",
      "source": [
        "user_behaviour.event_type.unique()"
      ],
      "metadata": {
        "colab": {
          "base_uri": "https://localhost:8080/"
        },
        "id": "AZ_ovmTPMpBE",
        "outputId": "a4ffe756-5322-42f0-e259-5b97ff5ff4e1"
      },
      "execution_count": null,
      "outputs": [
        {
          "output_type": "execute_result",
          "data": {
            "text/plain": [
              "array([1, 2, 0, 3])"
            ]
          },
          "metadata": {},
          "execution_count": 8
        }
      ]
    },
    {
      "cell_type": "code",
      "source": [
        "#сортировка и удаление дупликатов\n",
        "usrBeh = user_behaviour.sort_values(by = 'project_id', ascending=True).drop_duplicates(['project_id'\t,'user_id'], keep='last')"
      ],
      "metadata": {
        "id": "9pPgw5FiK5D1"
      },
      "execution_count": null,
      "outputs": []
    },
    {
      "cell_type": "code",
      "source": [
        "usrArr = usrBeh.user_id.unique()\n",
        "prdArr = usrBeh.project_id.unique()\n",
        "print('Кол-во пользователей:', len(usrArr))\n",
        "print('Кол-во проектов:',len(prdArr))\n",
        "usrBeh.head()"
      ],
      "metadata": {
        "colab": {
          "base_uri": "https://localhost:8080/",
          "height": 241
        },
        "id": "DKEMtc_vA7nX",
        "outputId": "6e22a6fc-0bf5-46a9-a6fb-58e34302c7c2"
      },
      "execution_count": null,
      "outputs": [
        {
          "output_type": "stream",
          "name": "stdout",
          "text": [
            "Кол-во пользователей: 1000\n",
            "Кол-во проектов: 19\n"
          ]
        },
        {
          "output_type": "execute_result",
          "data": {
            "text/plain": [
              "       user_id  event_type  project_id  category  main_category\n",
              "3211       282           0    10945100         6              1\n",
              "10887      188           1    10945100         6              1\n",
              "3648       124           1    10945100         6              1\n",
              "14459        9           0    10945100         6              1\n",
              "1121       261           2    10945100         6              1"
            ],
            "text/html": [
              "\n",
              "  <div id=\"df-f9010e35-756e-4b19-9451-4fc2915b8c39\">\n",
              "    <div class=\"colab-df-container\">\n",
              "      <div>\n",
              "<style scoped>\n",
              "    .dataframe tbody tr th:only-of-type {\n",
              "        vertical-align: middle;\n",
              "    }\n",
              "\n",
              "    .dataframe tbody tr th {\n",
              "        vertical-align: top;\n",
              "    }\n",
              "\n",
              "    .dataframe thead th {\n",
              "        text-align: right;\n",
              "    }\n",
              "</style>\n",
              "<table border=\"1\" class=\"dataframe\">\n",
              "  <thead>\n",
              "    <tr style=\"text-align: right;\">\n",
              "      <th></th>\n",
              "      <th>user_id</th>\n",
              "      <th>event_type</th>\n",
              "      <th>project_id</th>\n",
              "      <th>category</th>\n",
              "      <th>main_category</th>\n",
              "    </tr>\n",
              "  </thead>\n",
              "  <tbody>\n",
              "    <tr>\n",
              "      <th>3211</th>\n",
              "      <td>282</td>\n",
              "      <td>0</td>\n",
              "      <td>10945100</td>\n",
              "      <td>6</td>\n",
              "      <td>1</td>\n",
              "    </tr>\n",
              "    <tr>\n",
              "      <th>10887</th>\n",
              "      <td>188</td>\n",
              "      <td>1</td>\n",
              "      <td>10945100</td>\n",
              "      <td>6</td>\n",
              "      <td>1</td>\n",
              "    </tr>\n",
              "    <tr>\n",
              "      <th>3648</th>\n",
              "      <td>124</td>\n",
              "      <td>1</td>\n",
              "      <td>10945100</td>\n",
              "      <td>6</td>\n",
              "      <td>1</td>\n",
              "    </tr>\n",
              "    <tr>\n",
              "      <th>14459</th>\n",
              "      <td>9</td>\n",
              "      <td>0</td>\n",
              "      <td>10945100</td>\n",
              "      <td>6</td>\n",
              "      <td>1</td>\n",
              "    </tr>\n",
              "    <tr>\n",
              "      <th>1121</th>\n",
              "      <td>261</td>\n",
              "      <td>2</td>\n",
              "      <td>10945100</td>\n",
              "      <td>6</td>\n",
              "      <td>1</td>\n",
              "    </tr>\n",
              "  </tbody>\n",
              "</table>\n",
              "</div>\n",
              "      <button class=\"colab-df-convert\" onclick=\"convertToInteractive('df-f9010e35-756e-4b19-9451-4fc2915b8c39')\"\n",
              "              title=\"Convert this dataframe to an interactive table.\"\n",
              "              style=\"display:none;\">\n",
              "        \n",
              "  <svg xmlns=\"http://www.w3.org/2000/svg\" height=\"24px\"viewBox=\"0 0 24 24\"\n",
              "       width=\"24px\">\n",
              "    <path d=\"M0 0h24v24H0V0z\" fill=\"none\"/>\n",
              "    <path d=\"M18.56 5.44l.94 2.06.94-2.06 2.06-.94-2.06-.94-.94-2.06-.94 2.06-2.06.94zm-11 1L8.5 8.5l.94-2.06 2.06-.94-2.06-.94L8.5 2.5l-.94 2.06-2.06.94zm10 10l.94 2.06.94-2.06 2.06-.94-2.06-.94-.94-2.06-.94 2.06-2.06.94z\"/><path d=\"M17.41 7.96l-1.37-1.37c-.4-.4-.92-.59-1.43-.59-.52 0-1.04.2-1.43.59L10.3 9.45l-7.72 7.72c-.78.78-.78 2.05 0 2.83L4 21.41c.39.39.9.59 1.41.59.51 0 1.02-.2 1.41-.59l7.78-7.78 2.81-2.81c.8-.78.8-2.07 0-2.86zM5.41 20L4 18.59l7.72-7.72 1.47 1.35L5.41 20z\"/>\n",
              "  </svg>\n",
              "      </button>\n",
              "      \n",
              "  <style>\n",
              "    .colab-df-container {\n",
              "      display:flex;\n",
              "      flex-wrap:wrap;\n",
              "      gap: 12px;\n",
              "    }\n",
              "\n",
              "    .colab-df-convert {\n",
              "      background-color: #E8F0FE;\n",
              "      border: none;\n",
              "      border-radius: 50%;\n",
              "      cursor: pointer;\n",
              "      display: none;\n",
              "      fill: #1967D2;\n",
              "      height: 32px;\n",
              "      padding: 0 0 0 0;\n",
              "      width: 32px;\n",
              "    }\n",
              "\n",
              "    .colab-df-convert:hover {\n",
              "      background-color: #E2EBFA;\n",
              "      box-shadow: 0px 1px 2px rgba(60, 64, 67, 0.3), 0px 1px 3px 1px rgba(60, 64, 67, 0.15);\n",
              "      fill: #174EA6;\n",
              "    }\n",
              "\n",
              "    [theme=dark] .colab-df-convert {\n",
              "      background-color: #3B4455;\n",
              "      fill: #D2E3FC;\n",
              "    }\n",
              "\n",
              "    [theme=dark] .colab-df-convert:hover {\n",
              "      background-color: #434B5C;\n",
              "      box-shadow: 0px 1px 3px 1px rgba(0, 0, 0, 0.15);\n",
              "      filter: drop-shadow(0px 1px 2px rgba(0, 0, 0, 0.3));\n",
              "      fill: #FFFFFF;\n",
              "    }\n",
              "  </style>\n",
              "\n",
              "      <script>\n",
              "        const buttonEl =\n",
              "          document.querySelector('#df-f9010e35-756e-4b19-9451-4fc2915b8c39 button.colab-df-convert');\n",
              "        buttonEl.style.display =\n",
              "          google.colab.kernel.accessAllowed ? 'block' : 'none';\n",
              "\n",
              "        async function convertToInteractive(key) {\n",
              "          const element = document.querySelector('#df-f9010e35-756e-4b19-9451-4fc2915b8c39');\n",
              "          const dataTable =\n",
              "            await google.colab.kernel.invokeFunction('convertToInteractive',\n",
              "                                                     [key], {});\n",
              "          if (!dataTable) return;\n",
              "\n",
              "          const docLinkHtml = 'Like what you see? Visit the ' +\n",
              "            '<a target=\"_blank\" href=https://colab.research.google.com/notebooks/data_table.ipynb>data table notebook</a>'\n",
              "            + ' to learn more about interactive tables.';\n",
              "          element.innerHTML = '';\n",
              "          dataTable['output_type'] = 'display_data';\n",
              "          await google.colab.output.renderOutput(dataTable, element);\n",
              "          const docLink = document.createElement('div');\n",
              "          docLink.innerHTML = docLinkHtml;\n",
              "          element.appendChild(docLink);\n",
              "        }\n",
              "      </script>\n",
              "    </div>\n",
              "  </div>\n",
              "  "
            ]
          },
          "metadata": {},
          "execution_count": 10
        }
      ]
    },
    {
      "cell_type": "code",
      "source": [
        "print(user_behaviour.shape)"
      ],
      "metadata": {
        "colab": {
          "base_uri": "https://localhost:8080/"
        },
        "id": "QTtePPRrCcF6",
        "outputId": "52ba97e6-b310-49ad-cd63-ff70fb8cb383"
      },
      "execution_count": null,
      "outputs": [
        {
          "output_type": "stream",
          "name": "stdout",
          "text": [
            "(19266, 5)\n"
          ]
        }
      ]
    },
    {
      "cell_type": "code",
      "source": [
        "prdArrNp = np.array(prdArr[1], dtype=int)\n",
        "usrArrNp = np.array(usrArr, dtype=int)\n",
        "prdArrNp"
      ],
      "metadata": {
        "colab": {
          "base_uri": "https://localhost:8080/"
        },
        "id": "jepf3vtoG3u9",
        "outputId": "20415fb8-5e2a-454c-d202-3e986fccbed2"
      },
      "execution_count": null,
      "outputs": [
        {
          "output_type": "execute_result",
          "data": {
            "text/plain": [
              "array(11967611)"
            ]
          },
          "metadata": {},
          "execution_count": 12
        }
      ]
    },
    {
      "cell_type": "code",
      "source": [
        "usrBeh2 = pd.pivot_table(usrBeh, values='event_type', index='project_id'\t, columns='user_id').fillna(-1)\n",
        "usrBeh2.head()"
      ],
      "metadata": {
        "colab": {
          "base_uri": "https://localhost:8080/",
          "height": 267
        },
        "id": "uJWFUaj2Ie6z",
        "outputId": "36dcbcce-ac38-4183-bd7c-95b9983a03a0"
      },
      "execution_count": null,
      "outputs": [
        {
          "output_type": "execute_result",
          "data": {
            "text/plain": [
              "user_id     0    1    2    3    4    5    6    7    8    9    ...  990  991  \\\n",
              "project_id                                                    ...             \n",
              "10945100   -1.0 -1.0 -1.0 -1.0 -1.0  0.0 -1.0 -1.0 -1.0  0.0  ...  1.0  0.0   \n",
              "11967611    1.0  1.0  0.0  1.0 -1.0 -1.0 -1.0  0.0  0.0  2.0  ... -1.0  0.0   \n",
              "1030448552 -1.0  0.0 -1.0 -1.0  1.0  0.0 -1.0  2.0 -1.0 -1.0  ...  0.0  2.0   \n",
              "1049992157  1.0 -1.0 -1.0  1.0  0.0 -1.0  0.0  0.0  2.0 -1.0  ... -1.0 -1.0   \n",
              "1052830150 -1.0  0.0  1.0 -1.0 -1.0  0.0  1.0  0.0 -1.0 -1.0  ...  0.0  2.0   \n",
              "\n",
              "user_id     992  993  994  995  996  997  998  999  \n",
              "project_id                                          \n",
              "10945100    1.0  0.0 -1.0 -1.0  1.0  0.0  0.0  2.0  \n",
              "11967611    0.0  0.0  0.0  3.0  1.0  0.0  1.0  0.0  \n",
              "1030448552  0.0  2.0  0.0 -1.0 -1.0  0.0 -1.0  1.0  \n",
              "1049992157  1.0 -1.0  0.0  2.0  0.0 -1.0 -1.0 -1.0  \n",
              "1052830150  1.0 -1.0  0.0  0.0 -1.0 -1.0 -1.0 -1.0  \n",
              "\n",
              "[5 rows x 1000 columns]"
            ],
            "text/html": [
              "\n",
              "  <div id=\"df-06213206-da5e-42ef-a421-c36e01836d51\">\n",
              "    <div class=\"colab-df-container\">\n",
              "      <div>\n",
              "<style scoped>\n",
              "    .dataframe tbody tr th:only-of-type {\n",
              "        vertical-align: middle;\n",
              "    }\n",
              "\n",
              "    .dataframe tbody tr th {\n",
              "        vertical-align: top;\n",
              "    }\n",
              "\n",
              "    .dataframe thead th {\n",
              "        text-align: right;\n",
              "    }\n",
              "</style>\n",
              "<table border=\"1\" class=\"dataframe\">\n",
              "  <thead>\n",
              "    <tr style=\"text-align: right;\">\n",
              "      <th>user_id</th>\n",
              "      <th>0</th>\n",
              "      <th>1</th>\n",
              "      <th>2</th>\n",
              "      <th>3</th>\n",
              "      <th>4</th>\n",
              "      <th>5</th>\n",
              "      <th>6</th>\n",
              "      <th>7</th>\n",
              "      <th>8</th>\n",
              "      <th>9</th>\n",
              "      <th>...</th>\n",
              "      <th>990</th>\n",
              "      <th>991</th>\n",
              "      <th>992</th>\n",
              "      <th>993</th>\n",
              "      <th>994</th>\n",
              "      <th>995</th>\n",
              "      <th>996</th>\n",
              "      <th>997</th>\n",
              "      <th>998</th>\n",
              "      <th>999</th>\n",
              "    </tr>\n",
              "    <tr>\n",
              "      <th>project_id</th>\n",
              "      <th></th>\n",
              "      <th></th>\n",
              "      <th></th>\n",
              "      <th></th>\n",
              "      <th></th>\n",
              "      <th></th>\n",
              "      <th></th>\n",
              "      <th></th>\n",
              "      <th></th>\n",
              "      <th></th>\n",
              "      <th></th>\n",
              "      <th></th>\n",
              "      <th></th>\n",
              "      <th></th>\n",
              "      <th></th>\n",
              "      <th></th>\n",
              "      <th></th>\n",
              "      <th></th>\n",
              "      <th></th>\n",
              "      <th></th>\n",
              "      <th></th>\n",
              "    </tr>\n",
              "  </thead>\n",
              "  <tbody>\n",
              "    <tr>\n",
              "      <th>10945100</th>\n",
              "      <td>-1.0</td>\n",
              "      <td>-1.0</td>\n",
              "      <td>-1.0</td>\n",
              "      <td>-1.0</td>\n",
              "      <td>-1.0</td>\n",
              "      <td>0.0</td>\n",
              "      <td>-1.0</td>\n",
              "      <td>-1.0</td>\n",
              "      <td>-1.0</td>\n",
              "      <td>0.0</td>\n",
              "      <td>...</td>\n",
              "      <td>1.0</td>\n",
              "      <td>0.0</td>\n",
              "      <td>1.0</td>\n",
              "      <td>0.0</td>\n",
              "      <td>-1.0</td>\n",
              "      <td>-1.0</td>\n",
              "      <td>1.0</td>\n",
              "      <td>0.0</td>\n",
              "      <td>0.0</td>\n",
              "      <td>2.0</td>\n",
              "    </tr>\n",
              "    <tr>\n",
              "      <th>11967611</th>\n",
              "      <td>1.0</td>\n",
              "      <td>1.0</td>\n",
              "      <td>0.0</td>\n",
              "      <td>1.0</td>\n",
              "      <td>-1.0</td>\n",
              "      <td>-1.0</td>\n",
              "      <td>-1.0</td>\n",
              "      <td>0.0</td>\n",
              "      <td>0.0</td>\n",
              "      <td>2.0</td>\n",
              "      <td>...</td>\n",
              "      <td>-1.0</td>\n",
              "      <td>0.0</td>\n",
              "      <td>0.0</td>\n",
              "      <td>0.0</td>\n",
              "      <td>0.0</td>\n",
              "      <td>3.0</td>\n",
              "      <td>1.0</td>\n",
              "      <td>0.0</td>\n",
              "      <td>1.0</td>\n",
              "      <td>0.0</td>\n",
              "    </tr>\n",
              "    <tr>\n",
              "      <th>1030448552</th>\n",
              "      <td>-1.0</td>\n",
              "      <td>0.0</td>\n",
              "      <td>-1.0</td>\n",
              "      <td>-1.0</td>\n",
              "      <td>1.0</td>\n",
              "      <td>0.0</td>\n",
              "      <td>-1.0</td>\n",
              "      <td>2.0</td>\n",
              "      <td>-1.0</td>\n",
              "      <td>-1.0</td>\n",
              "      <td>...</td>\n",
              "      <td>0.0</td>\n",
              "      <td>2.0</td>\n",
              "      <td>0.0</td>\n",
              "      <td>2.0</td>\n",
              "      <td>0.0</td>\n",
              "      <td>-1.0</td>\n",
              "      <td>-1.0</td>\n",
              "      <td>0.0</td>\n",
              "      <td>-1.0</td>\n",
              "      <td>1.0</td>\n",
              "    </tr>\n",
              "    <tr>\n",
              "      <th>1049992157</th>\n",
              "      <td>1.0</td>\n",
              "      <td>-1.0</td>\n",
              "      <td>-1.0</td>\n",
              "      <td>1.0</td>\n",
              "      <td>0.0</td>\n",
              "      <td>-1.0</td>\n",
              "      <td>0.0</td>\n",
              "      <td>0.0</td>\n",
              "      <td>2.0</td>\n",
              "      <td>-1.0</td>\n",
              "      <td>...</td>\n",
              "      <td>-1.0</td>\n",
              "      <td>-1.0</td>\n",
              "      <td>1.0</td>\n",
              "      <td>-1.0</td>\n",
              "      <td>0.0</td>\n",
              "      <td>2.0</td>\n",
              "      <td>0.0</td>\n",
              "      <td>-1.0</td>\n",
              "      <td>-1.0</td>\n",
              "      <td>-1.0</td>\n",
              "    </tr>\n",
              "    <tr>\n",
              "      <th>1052830150</th>\n",
              "      <td>-1.0</td>\n",
              "      <td>0.0</td>\n",
              "      <td>1.0</td>\n",
              "      <td>-1.0</td>\n",
              "      <td>-1.0</td>\n",
              "      <td>0.0</td>\n",
              "      <td>1.0</td>\n",
              "      <td>0.0</td>\n",
              "      <td>-1.0</td>\n",
              "      <td>-1.0</td>\n",
              "      <td>...</td>\n",
              "      <td>0.0</td>\n",
              "      <td>2.0</td>\n",
              "      <td>1.0</td>\n",
              "      <td>-1.0</td>\n",
              "      <td>0.0</td>\n",
              "      <td>0.0</td>\n",
              "      <td>-1.0</td>\n",
              "      <td>-1.0</td>\n",
              "      <td>-1.0</td>\n",
              "      <td>-1.0</td>\n",
              "    </tr>\n",
              "  </tbody>\n",
              "</table>\n",
              "<p>5 rows × 1000 columns</p>\n",
              "</div>\n",
              "      <button class=\"colab-df-convert\" onclick=\"convertToInteractive('df-06213206-da5e-42ef-a421-c36e01836d51')\"\n",
              "              title=\"Convert this dataframe to an interactive table.\"\n",
              "              style=\"display:none;\">\n",
              "        \n",
              "  <svg xmlns=\"http://www.w3.org/2000/svg\" height=\"24px\"viewBox=\"0 0 24 24\"\n",
              "       width=\"24px\">\n",
              "    <path d=\"M0 0h24v24H0V0z\" fill=\"none\"/>\n",
              "    <path d=\"M18.56 5.44l.94 2.06.94-2.06 2.06-.94-2.06-.94-.94-2.06-.94 2.06-2.06.94zm-11 1L8.5 8.5l.94-2.06 2.06-.94-2.06-.94L8.5 2.5l-.94 2.06-2.06.94zm10 10l.94 2.06.94-2.06 2.06-.94-2.06-.94-.94-2.06-.94 2.06-2.06.94z\"/><path d=\"M17.41 7.96l-1.37-1.37c-.4-.4-.92-.59-1.43-.59-.52 0-1.04.2-1.43.59L10.3 9.45l-7.72 7.72c-.78.78-.78 2.05 0 2.83L4 21.41c.39.39.9.59 1.41.59.51 0 1.02-.2 1.41-.59l7.78-7.78 2.81-2.81c.8-.78.8-2.07 0-2.86zM5.41 20L4 18.59l7.72-7.72 1.47 1.35L5.41 20z\"/>\n",
              "  </svg>\n",
              "      </button>\n",
              "      \n",
              "  <style>\n",
              "    .colab-df-container {\n",
              "      display:flex;\n",
              "      flex-wrap:wrap;\n",
              "      gap: 12px;\n",
              "    }\n",
              "\n",
              "    .colab-df-convert {\n",
              "      background-color: #E8F0FE;\n",
              "      border: none;\n",
              "      border-radius: 50%;\n",
              "      cursor: pointer;\n",
              "      display: none;\n",
              "      fill: #1967D2;\n",
              "      height: 32px;\n",
              "      padding: 0 0 0 0;\n",
              "      width: 32px;\n",
              "    }\n",
              "\n",
              "    .colab-df-convert:hover {\n",
              "      background-color: #E2EBFA;\n",
              "      box-shadow: 0px 1px 2px rgba(60, 64, 67, 0.3), 0px 1px 3px 1px rgba(60, 64, 67, 0.15);\n",
              "      fill: #174EA6;\n",
              "    }\n",
              "\n",
              "    [theme=dark] .colab-df-convert {\n",
              "      background-color: #3B4455;\n",
              "      fill: #D2E3FC;\n",
              "    }\n",
              "\n",
              "    [theme=dark] .colab-df-convert:hover {\n",
              "      background-color: #434B5C;\n",
              "      box-shadow: 0px 1px 3px 1px rgba(0, 0, 0, 0.15);\n",
              "      filter: drop-shadow(0px 1px 2px rgba(0, 0, 0, 0.3));\n",
              "      fill: #FFFFFF;\n",
              "    }\n",
              "  </style>\n",
              "\n",
              "      <script>\n",
              "        const buttonEl =\n",
              "          document.querySelector('#df-06213206-da5e-42ef-a421-c36e01836d51 button.colab-df-convert');\n",
              "        buttonEl.style.display =\n",
              "          google.colab.kernel.accessAllowed ? 'block' : 'none';\n",
              "\n",
              "        async function convertToInteractive(key) {\n",
              "          const element = document.querySelector('#df-06213206-da5e-42ef-a421-c36e01836d51');\n",
              "          const dataTable =\n",
              "            await google.colab.kernel.invokeFunction('convertToInteractive',\n",
              "                                                     [key], {});\n",
              "          if (!dataTable) return;\n",
              "\n",
              "          const docLinkHtml = 'Like what you see? Visit the ' +\n",
              "            '<a target=\"_blank\" href=https://colab.research.google.com/notebooks/data_table.ipynb>data table notebook</a>'\n",
              "            + ' to learn more about interactive tables.';\n",
              "          element.innerHTML = '';\n",
              "          dataTable['output_type'] = 'display_data';\n",
              "          await google.colab.output.renderOutput(dataTable, element);\n",
              "          const docLink = document.createElement('div');\n",
              "          docLink.innerHTML = docLinkHtml;\n",
              "          element.appendChild(docLink);\n",
              "        }\n",
              "      </script>\n",
              "    </div>\n",
              "  </div>\n",
              "  "
            ]
          },
          "metadata": {},
          "execution_count": 13
        }
      ]
    },
    {
      "cell_type": "code",
      "source": [
        "project_id = list(usrBeh2.index)"
      ],
      "metadata": {
        "id": "t1NQ7DhSL53Z"
      },
      "execution_count": null,
      "outputs": []
    },
    {
      "cell_type": "code",
      "source": [
        "# создание разряженной матрицы\n",
        "csrUsrBeh = scipy.sparse.csr_matrix(usrBeh, dtype = np.int32)\n",
        "csrUsrBeh"
      ],
      "metadata": {
        "id": "Nled-kpfKauo",
        "colab": {
          "base_uri": "https://localhost:8080/"
        },
        "outputId": "9b9e1607-c0c1-4b78-d3f7-1204825844b6"
      },
      "execution_count": null,
      "outputs": [
        {
          "output_type": "execute_result",
          "data": {
            "text/plain": [
              "<12118x5 sparse matrix of type '<class 'numpy.int32'>'\n",
              "\twith 53170 stored elements in Compressed Sparse Row format>"
            ]
          },
          "metadata": {},
          "execution_count": 15
        }
      ]
    },
    {
      "cell_type": "code",
      "source": [
        "# предикт будет примерно таким\n",
        "# usrBeh[100]\n",
        "#csrUsrBeh"
      ],
      "metadata": {
        "id": "8TiwtW2jXbzB"
      },
      "execution_count": null,
      "outputs": []
    },
    {
      "cell_type": "code",
      "source": [
        "model = LightFM(no_components=30, loss='warp')\n",
        "%time model = model.fit(csrUsrBeh, epochs=5, num_threads=4)"
      ],
      "metadata": {
        "id": "QG1ud2rUGtmW",
        "colab": {
          "base_uri": "https://localhost:8080/"
        },
        "outputId": "77ee55f3-f10b-4e82-d867-95c38c3c2f13"
      },
      "execution_count": null,
      "outputs": [
        {
          "output_type": "stream",
          "name": "stdout",
          "text": [
            "CPU times: user 428 ms, sys: 2.63 ms, total: 430 ms\n",
            "Wall time: 245 ms\n"
          ]
        }
      ]
    },
    {
      "cell_type": "code",
      "source": [
        "test_precision = precision_at_k(model, csrUsrBeh, k=5).mean()\n",
        "print(test_precision)"
      ],
      "metadata": {
        "id": "wJd7bR00VRqY",
        "colab": {
          "base_uri": "https://localhost:8080/"
        },
        "outputId": "9cdd6a82-f2ac-450b-c4c8-1ba213b7b5bd"
      },
      "execution_count": null,
      "outputs": [
        {
          "output_type": "stream",
          "name": "stdout",
          "text": [
            "0.8775376\n"
          ]
        }
      ]
    },
    {
      "cell_type": "code",
      "source": [
        "predictions = model.predict(943, prdArrNp, num_threads=4)"
      ],
      "metadata": {
        "id": "HceMoBANUgLa"
      },
      "execution_count": null,
      "outputs": []
    },
    {
      "cell_type": "code",
      "source": [
        ""
      ],
      "metadata": {
        "id": "_hbnV9RlVu5V"
      },
      "execution_count": null,
      "outputs": []
    }
  ]
}