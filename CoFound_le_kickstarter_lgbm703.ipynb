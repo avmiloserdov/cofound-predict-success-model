{
  "cells": [
    {
      "cell_type": "markdown",
      "metadata": {
        "id": "view-in-github",
        "colab_type": "text"
      },
      "source": [
        "<a href=\"https://colab.research.google.com/github/avmiloserdov/cofound-predict-success-model/blob/main/CoFound_le_kickstarter_lgbm703.ipynb\" target=\"_parent\"><img src=\"https://colab.research.google.com/assets/colab-badge.svg\" alt=\"Open In Colab\"/></a>"
      ]
    },
    {
      "cell_type": "markdown",
      "metadata": {
        "id": "lF5zQmKiE51O"
      },
      "source": [
        "# Problem Statement\n",
        "To predict if a kickstarter project will be successful or will fail before its actual deadline. Also identify the factors that determine the success rate of a project.\n",
        "\n",
        "\n",
        "# Solution Notebook\n",
        "This notebook basically has 4 steps/ modules:\n",
        "    1. Data Understanding (EDA) and Preprocessing\n",
        "    2. Feature Engineering and heuristic feature selection\n",
        "    3. Model Building\n",
        "        3A. XGBoost\n",
        "        3B. Random Forest\n",
        "        3C. LGBM (2 versions: with one-hot encoded features and with categorical features at integer-category columns)\n",
        "        3D. Ensemble Models- ormal Averaging and AdaBoosting\n",
        "    4. Feature importance\n",
        "    \n",
        "The best accuracy obtained was 70.3% accuracy on Test Data from LGBM (version 2)"
      ]
    },
    {
      "cell_type": "markdown",
      "metadata": {
        "id": "kWcZIuCtE51T"
      },
      "source": [
        "## Setting up the requires libraries and packages"
      ]
    },
    {
      "cell_type": "code",
      "execution_count": 154,
      "metadata": {
        "id": "bqoibFCWE51V"
      },
      "outputs": [],
      "source": [
        "# Libraries\n",
        "import numpy as np\n",
        "import pandas as pd\n",
        "import os\n",
        "from datetime import datetime\n",
        "import time\n",
        "from sklearn.model_selection import train_test_split\n",
        "from sklearn.linear_model import LogisticRegression\n",
        "from sklearn import preprocessing\n",
        "from sklearn.ensemble import RandomForestClassifier\n",
        "from sklearn.metrics import accuracy_score\n",
        "from sklearn.metrics import confusion_matrix\n",
        "from sklearn.metrics import roc_auc_score\n",
        "from sklearn.metrics import classification_report\n",
        "from sklearn import preprocessing\n",
        "import string\n",
        "#import itertools\n",
        "#from itertools import product"
      ]
    },
    {
      "cell_type": "markdown",
      "metadata": {
        "id": "RKDSyVJzE51a"
      },
      "source": [
        "## Importing a dataset"
      ]
    },
    {
      "cell_type": "code",
      "execution_count": 155,
      "metadata": {
        "id": "VXUI-ZwiE51b"
      },
      "outputs": [],
      "source": [
        "# read in data\n",
        "kickstarters_2017 = pd.read_csv('ks-projects-201801.csv')\n",
        "#kickstarters_2017.head()"
      ]
    },
    {
      "cell_type": "code",
      "execution_count": 156,
      "metadata": {
        "colab": {
          "base_uri": "https://localhost:8080/"
        },
        "id": "s6e9yfR-Nwwl",
        "outputId": "1b50bdf7-3773-4ed1-d4b5-39894345fba0"
      },
      "outputs": [
        {
          "output_type": "stream",
          "name": "stdout",
          "text": [
            "Количество категорий в датасете: 159\n"
          ]
        }
      ],
      "source": [
        "categoryArr = kickstarters_2017.category.unique()\n",
        "print('Количество категорий в датасете:', len(categoryArr))\n",
        "\n",
        " #categoryArr2 = ['Audio','Print','Journalism','Video','Web','Photo','Games','Tabletop Games','Video Games','Mobile Games','Playing Cards','Puzzles','Live Games','Gaming Hardware',\n",
        " #               'Fashion','Childrenswear','Accessories','Ready-to-wear','Apparel','Jewelry','Footwear','Couture','Pet Fashion','Product Design','Design','Architecture','Graphic Design',\n",
        " #               'Typography','Interactive Design','Civic Design','Crafts','DIY','Weaving','Stationery','Woodworking','Letterpress','Pottery','Glass','Printing','Public Art','Illustration',\n",
        " #               'Art','Painting','Performance Art','Ceramics','Sculpture','Mixed Media','Digital Art','Installations','Conceptual Art','Textiles','Video Art','Hardware','Software','Gadgets',\n",
        " #               'Web','Apps','Technology','Flight','Makerspaces','Fabrication Tools','Sound','Wearables','DIY Electronics','Camera Equipment','3D Printing','Space Exploration','Robots'] "
      ]
    },
    {
      "cell_type": "markdown",
      "metadata": {
        "id": "DGMkLMQ8E51c"
      },
      "source": [
        "## Basic Tests and EDA on input data"
      ]
    },
    {
      "cell_type": "code",
      "execution_count": 157,
      "metadata": {
        "id": "euNzmVDhE51c"
      },
      "outputs": [],
      "source": [
        "#printing all summary of the kickstarter data\n",
        "#this will give the dimensions of data set : (rows, columns)\n",
        "#print(kickstarters_2017.shape)\n",
        "#columns and data types\n",
        "#print(kickstarters_2017.info())\n",
        "#basic stats of columns\n",
        "#print(kickstarters_2017.describe())\n",
        "#number of unique values in all columns\n",
        "#print(kickstarters_2017.nunique())"
      ]
    },
    {
      "cell_type": "markdown",
      "metadata": {
        "id": "QCrYwuzuE51d"
      },
      "source": [
        "The above stats help us reaching the following conclusions:\n",
        "1. the data is at ID level (unique of ID=number of rows)\n",
        "2. The numerical data fields are: goal, pledged, backers, usd_pledged, usd_pledged_real,usd_goal_real"
      ]
    },
    {
      "cell_type": "markdown",
      "metadata": {
        "id": "gWNuFtDZE51e"
      },
      "source": [
        "#### Understanding Variables in the Dataset\n",
        "\n",
        "The dataset has 15 variablesincluding ID. SInce ID is the level of the dataset, we can set it as the index of the ata later. Variables like name, currency, deadline, launched date and country as self explanatory. Explanations of some key variables are as follows:\n",
        "\n",
        "Main_Category: There are 15 main categories for the project. These main categories broadly classify projects based on topic and genre they belong to.\n",
        "\n",
        "Category: Main Categories are further sub divided in categories to give more general idea of the project. For example, Main Category “Technology” has 15 categories like Gadgets, Web, Apps, Software etc. There are 159 total categories.\n",
        "\n",
        "Goal: This is the goal amount which the company need to raise to start its project. The goal amount is important variable for company as if it is too high, the project may fail to raise that amount of money and be unsuccessful. If it is too low, then it may reach its goal soon and backers may not be interested to pledge more.\n",
        "\n",
        "Pledged: This is amount raised by the company through its backers. On Kickstarter, if total amount pledged is lower than goal, then the project is unsuccessful and the start-up company doesn’t receive any fund. If pledged amount is more than the goal, the company is considered successful. The variable “usd pledged” is amount of money raised in US dollars.\n",
        "\n",
        "Number of Backers: These are number of people who have supported the project by pledging some amount."
      ]
    },
    {
      "cell_type": "code",
      "execution_count": 158,
      "metadata": {
        "colab": {
          "base_uri": "https://localhost:8080/"
        },
        "id": "OhwT_dX9E51g",
        "outputId": "3a0e8124-0546-4f89-cc73-92f31ba039bd"
      },
      "outputs": [
        {
          "output_type": "stream",
          "name": "stdout",
          "text": [
            "Статус, % \n",
            "failed        52.22\n",
            "successful    35.38\n",
            "canceled      10.24\n",
            "undefined      0.94\n",
            "live           0.74\n",
            "suspended      0.49\n",
            "Name: state, dtype: float64\n"
          ]
        }
      ],
      "source": [
        "#Распределение проектов по статусам\n",
        "percent_success = round(kickstarters_2017[\"state\"].value_counts() \n",
        "/ len(kickstarters_2017[\"state\"]) * 100,2)\n",
        "\n",
        "print(\"Статус, % \")\n",
        "print(percent_success)"
      ]
    },
    {
      "cell_type": "code",
      "execution_count": 159,
      "metadata": {
        "id": "d5sv4LOQE51h"
      },
      "outputs": [],
      "source": [
        "#renaming column usd_pledged as there is no '_' in the actual dataset variable name\n",
        "col_names_prev=list(kickstarters_2017)\n",
        "col_names_new= ['ID',\n",
        " 'name',\n",
        " 'category',\n",
        " 'main_category',\n",
        " 'currency',\n",
        " 'deadline',\n",
        " 'goal',\n",
        " 'launched',\n",
        " 'pledged',\n",
        " 'state',\n",
        " 'backers',\n",
        " 'country',\n",
        " 'usd_pledged',\n",
        " 'usd_pledged_real',\n",
        " 'usd_goal_real']\n",
        "kickstarters_2017.columns= col_names_new"
      ]
    },
    {
      "cell_type": "code",
      "execution_count": 160,
      "metadata": {
        "id": "wTX3ELciE51i"
      },
      "outputs": [],
      "source": [
        "7#segregating the variables as categorical and constinuous\n",
        "cat_vars=[ 'category', 'main_category', 'currency','country']\n",
        "cont_vars=['goal', 'pledged', 'backers','usd_pledged','usd_pledged_real','usd_goal_real']"
      ]
    },
    {
      "cell_type": "code",
      "execution_count": 161,
      "metadata": {
        "id": "S_hmwF48E51j"
      },
      "outputs": [],
      "source": [
        "#Корреляция количественных атрибутов\n",
        "#kickstarters_2017[cont_vars].corr()"
      ]
    },
    {
      "cell_type": "code",
      "execution_count": 162,
      "metadata": {
        "id": "ueshp5FlE51k"
      },
      "outputs": [],
      "source": [
        "#setting unique ID as index of the table\n",
        "#this is because the ID column will not be used in the algorithm. yet it is needed to identify the project\n",
        "df_kick= kickstarters_2017.set_index('ID')"
      ]
    },
    {
      "cell_type": "code",
      "execution_count": 163,
      "metadata": {
        "colab": {
          "base_uri": "https://localhost:8080/"
        },
        "id": "l-JUeJlfE51l",
        "outputId": "cfdcc626-2ff0-4c7f-bcdd-599798f05415"
      },
      "outputs": [
        {
          "output_type": "stream",
          "name": "stdout",
          "text": [
            "(331675, 14)\n"
          ]
        },
        {
          "output_type": "stream",
          "name": "stderr",
          "text": [
            "/usr/local/lib/python3.7/dist-packages/ipykernel_launcher.py:4: SettingWithCopyWarning: \n",
            "A value is trying to be set on a copy of a slice from a DataFrame.\n",
            "Try using .loc[row_indexer,col_indexer] = value instead\n",
            "\n",
            "See the caveats in the documentation: https://pandas.pydata.org/pandas-docs/stable/user_guide/indexing.html#returning-a-view-versus-a-copy\n",
            "  after removing the cwd from sys.path.\n"
          ]
        }
      ],
      "source": [
        "# Filtering only for successful and failed projects\n",
        "kick_projects = df_kick[(df_kick['state'] == 'failed') | (df_kick['state'] == 'successful')]\n",
        "#converting 'successful' state to 1 and failed to 0\n",
        "kick_projects['state'] = (kick_projects['state'] =='successful').astype(int)\n",
        "print(kick_projects.shape)"
      ]
    },
    {
      "cell_type": "code",
      "execution_count": 164,
      "metadata": {
        "id": "_cpqG-9PE51n"
      },
      "outputs": [],
      "source": [
        "#checking distribution of projects across various main categories\n",
        "#kick_projects.groupby(['main_category','state']).size()\n",
        "#kick_projects.groupby(['category','state']).size()"
      ]
    },
    {
      "cell_type": "code",
      "execution_count": 165,
      "metadata": {
        "id": "yPSC-pZxE51p",
        "scrolled": true
      },
      "outputs": [],
      "source": [
        "#correlation of continuous variables with the dependent variable\n",
        "#kick_projects[['goal', 'pledged', 'backers','usd_pledged','usd_pledged_real','usd_goal_real','state']].corr()"
      ]
    },
    {
      "cell_type": "markdown",
      "metadata": {
        "id": "y1M4nME7E51q"
      },
      "source": [
        "## Feature Engineering"
      ]
    },
    {
      "cell_type": "code",
      "execution_count": 166,
      "metadata": {
        "colab": {
          "base_uri": "https://localhost:8080/"
        },
        "id": "GE5WDSGZE51r",
        "outputId": "ed5cb805-478e-43e9-8f02-f0a59fecf0b6"
      },
      "outputs": [
        {
          "output_type": "stream",
          "name": "stderr",
          "text": [
            "/usr/local/lib/python3.7/dist-packages/ipykernel_launcher.py:5: SettingWithCopyWarning: \n",
            "A value is trying to be set on a copy of a slice from a DataFrame.\n",
            "Try using .loc[row_indexer,col_indexer] = value instead\n",
            "\n",
            "See the caveats in the documentation: https://pandas.pydata.org/pandas-docs/stable/user_guide/indexing.html#returning-a-view-versus-a-copy\n",
            "  \"\"\"\n",
            "/usr/local/lib/python3.7/dist-packages/ipykernel_launcher.py:6: SettingWithCopyWarning: \n",
            "A value is trying to be set on a copy of a slice from a DataFrame.\n",
            "Try using .loc[row_indexer,col_indexer] = value instead\n",
            "\n",
            "See the caveats in the documentation: https://pandas.pydata.org/pandas-docs/stable/user_guide/indexing.html#returning-a-view-versus-a-copy\n",
            "  \n"
          ]
        }
      ],
      "source": [
        "#creating derived metrics/ features\n",
        "\n",
        "#converting the date columns from string to date format\n",
        "#will use it to derive the duration of the project\n",
        "kick_projects['launched_date'] = pd.to_datetime(kick_projects['launched'], format='%Y-%m-%d %H:%M:%S')\n",
        "kick_projects['deadline_date'] = pd.to_datetime(kick_projects['deadline'], format='%Y-%m-%d %H:%M:%S')"
      ]
    },
    {
      "cell_type": "code",
      "execution_count": 167,
      "metadata": {
        "id": "OAODz1yEE51t"
      },
      "outputs": [],
      "source": [
        "kick_projects= kick_projects.sort_values('launched_date',ascending=True)"
      ]
    },
    {
      "cell_type": "code",
      "execution_count": 168,
      "metadata": {
        "id": "4ZROxU5WE51u"
      },
      "outputs": [],
      "source": [
        "#kick_projects.head()"
      ]
    },
    {
      "cell_type": "code",
      "execution_count": 169,
      "metadata": {
        "id": "f1DNl_BGE51v"
      },
      "outputs": [],
      "source": [
        "#creating features from the project name\n",
        "\n",
        "#length of name\n",
        "kick_projects['name_len'] = kick_projects.name.str.len()\n",
        "\n",
        "# presence of !\n",
        "kick_projects['name_exclaim'] = (kick_projects.name.str[-1] == '!').astype(int)\n",
        "\n",
        "# presence of !\n",
        "kick_projects['name_question'] = (kick_projects.name.str[-1] == '?').astype(int)\n",
        "\n",
        "# number of words in the name\n",
        "kick_projects['name_words'] = kick_projects.name.apply(lambda x: len(str(x).split(' ')))\n",
        "\n",
        "# if name is uppercase\n",
        "kick_projects['name_is_upper'] = kick_projects.name.str.isupper().astype(float)"
      ]
    },
    {
      "cell_type": "code",
      "execution_count": 170,
      "metadata": {
        "id": "-l9nXZTTE51x"
      },
      "outputs": [],
      "source": [
        "# normalizing goal by applying log\n",
        "kick_projects['goal_log'] = np.log1p(kick_projects.goal)\n",
        "#creating goal features to check what range goal lies in\n",
        "kick_projects['Goal_10'] = kick_projects.goal.apply(lambda x: x // 10)\n",
        "kick_projects['Goal_1000'] = kick_projects.goal.apply(lambda x: x // 1000)\n",
        "kick_projects['Goal_100'] = kick_projects.goal.apply(lambda x: x // 100)\n",
        "kick_projects['Goal_500'] = kick_projects.goal.apply(lambda x: x // 500)"
      ]
    },
    {
      "cell_type": "code",
      "execution_count": 171,
      "metadata": {
        "colab": {
          "base_uri": "https://localhost:8080/"
        },
        "id": "T-VvyJLzE51y",
        "outputId": "83f4d241-35d5-4bbd-e31f-4cf7f8f24549"
      },
      "outputs": [
        {
          "output_type": "stream",
          "name": "stderr",
          "text": [
            "/usr/local/lib/python3.7/dist-packages/ipykernel_launcher.py:7: FutureWarning: Series.dt.weekofyear and Series.dt.week have been deprecated.  Please use Series.dt.isocalendar().week instead.\n",
            "  import sys\n"
          ]
        }
      ],
      "source": [
        "#features from date column\n",
        "kick_projects['duration']=(kick_projects['deadline_date']-kick_projects['launched_date']).dt.days\n",
        "#the idea for deriving launched quarter month year is that perhaps projects launched in a particular year/ quarter/ month might have a low success rate\n",
        "kick_projects['launched_quarter']= kick_projects['launched_date'].dt.quarter\n",
        "kick_projects['launched_month']= kick_projects['launched_date'].dt.month\n",
        "kick_projects['launched_year']= kick_projects['launched_date'].dt.year\n",
        "kick_projects['launched_week']= kick_projects['launched_date'].dt.week"
      ]
    },
    {
      "cell_type": "code",
      "execution_count": 172,
      "metadata": {
        "id": "2Fa0lO-P3pXR"
      },
      "outputs": [],
      "source": [
        "#kick_projects.head()\n",
        "#df = pd.DataFrame(kick_projects)\n",
        "#df2 = df.drop(df.columns[[0,3,4,5,6,7,10,11,12,13,14,15,16,17,18,19,20,21,22,23,24,25,26,27,28,29,30,31,32]], axis=1)\n",
        "#df3 = df2[df2['main_category'].isin(['Technology','Design','Crafts'])]\n",
        "#df4 = df3[34:134]\n",
        "#kick_projects_new.head()\n",
        "#df3.head() "
      ]
    },
    {
      "cell_type": "code",
      "execution_count": 173,
      "metadata": {
        "id": "GZ2P2-JwqpJh"
      },
      "outputs": [],
      "source": [
        "#events = pd.read_csv('!events.csv')\n",
        "#events2 = events.drop(events.columns[[0,4,5,6,8]], axis=1)\n",
        "#events2.head()"
      ]
    },
    {
      "cell_type": "code",
      "execution_count": 174,
      "metadata": {
        "id": "eGn99niQ_4Wi"
      },
      "outputs": [],
      "source": [
        "#from pathlib import Path  \n",
        "#filepath = Path('/content/out.csv')  \n",
        "#df4.to_csv(filepath)  "
      ]
    },
    {
      "cell_type": "code",
      "execution_count": 175,
      "metadata": {
        "id": "xePzsaE3E51z"
      },
      "outputs": [],
      "source": [
        "#additional features from goal, pledge and backers columns\n",
        "kick_projects.loc[:,'goal_reached'] = kick_projects['pledged'] / kick_projects['goal'] # Pledged amount as a percentage of goal.\n",
        "#The above field will be used to compute another metric\n",
        "# In backers column, impute 0 with 1 to prevent undefined division.\n",
        "kick_projects.loc[kick_projects['backers'] == 0, 'backers'] = 1 \n",
        "kick_projects.loc[:,'pledge_per_backer'] = kick_projects['pledged'] / kick_projects['backers'] # Pledged amount per backer."
      ]
    },
    {
      "cell_type": "code",
      "execution_count": 176,
      "metadata": {
        "id": "ozFrfm-YE510"
      },
      "outputs": [],
      "source": [
        "#will create percentile buckets for the goal amount in a category\n",
        "kick_projects['goal_cat_perc'] =  kick_projects.groupby(['category'])['goal'].transform(\n",
        "                     lambda x: pd.qcut(x, [0, .35, .70, 1], labels =[1,2,3], duplicates='drop'))\n",
        "\n",
        "#will create percentile buckets for the duration in a category\n",
        "kick_projects['duration_cat_perc'] =  kick_projects.groupby(['category'])['duration'].transform(\n",
        "                     lambda x: pd.qcut(x, [0, .35, .70, 1], labels =False, duplicates='drop'))"
      ]
    },
    {
      "cell_type": "code",
      "execution_count": 177,
      "metadata": {
        "id": "hsRUXG7KE511"
      },
      "outputs": [],
      "source": [
        "#creating a metric to see number of competitors for a given project in a given quarter\n",
        "#number of participants in a given category, that launched in the same year and quarter and in the same goal bucket\n",
        "ks_particpants_qtr=kick_projects.groupby(['category','launched_year','launched_quarter','goal_cat_perc']).count()\n",
        "ks_particpants_qtr=ks_particpants_qtr[['name']]\n",
        "#since the above table has all group by columns created as index, converting them into columns\n",
        "ks_particpants_qtr.reset_index(inplace=True)\n",
        "\n",
        "#creating a metric to see number of competitors for a given project in a given month\n",
        "#number of participants in a given category, that launched in the same year and month and in the same goal bucket\n",
        "ks_particpants_mth=kick_projects.groupby(['category','launched_year','launched_month','goal_cat_perc']).count()\n",
        "ks_particpants_mth=ks_particpants_mth[['name']]\n",
        "#since the above table has all group by columns created as index, converting them into columns\n",
        "ks_particpants_mth.reset_index(inplace=True)\n",
        "\n",
        "#creating a metric to see number of competitors for a given project in a given week\n",
        "#number of participants in a given category, that launched in the same year and week and in the same goal bucket\n",
        "ks_particpants_wk=kick_projects.groupby(['category','launched_year','launched_week','goal_cat_perc']).count()\n",
        "ks_particpants_wk=ks_particpants_wk[['name']]\n",
        "#since the above table has all group by columns created as index, converting them into columns\n",
        "ks_particpants_wk.reset_index(inplace=True)"
      ]
    },
    {
      "cell_type": "code",
      "execution_count": 178,
      "metadata": {
        "id": "Vu84wK2EE512"
      },
      "outputs": [],
      "source": [
        "#renaming columns of the derived table\n",
        "colmns_qtr=['category', 'launched_year', 'launched_quarter', 'goal_cat_perc', 'participants_qtr']\n",
        "ks_particpants_qtr.columns=colmns_qtr\n",
        "\n",
        "colmns_mth=['category', 'launched_year', 'launched_month', 'goal_cat_perc', 'participants_mth']\n",
        "ks_particpants_mth.columns=colmns_mth\n",
        "\n",
        "colmns_wk=['category', 'launched_year', 'launched_week', 'goal_cat_perc', 'participants_wk']\n",
        "ks_particpants_wk.columns=colmns_wk"
      ]
    },
    {
      "cell_type": "code",
      "execution_count": 179,
      "metadata": {
        "id": "MopICnq9E513"
      },
      "outputs": [],
      "source": [
        "#merging the particpants column into the base table\n",
        "kick_projects = pd.merge(kick_projects, ks_particpants_qtr, on = ['category', 'launched_year', 'launched_quarter','goal_cat_perc'], how = 'left')\n",
        "kick_projects = pd.merge(kick_projects, ks_particpants_mth, on = ['category', 'launched_year', 'launched_month','goal_cat_perc'], how = 'left')\n",
        "kick_projects = pd.merge(kick_projects, ks_particpants_wk, on = ['category', 'launched_year', 'launched_week','goal_cat_perc'], how = 'left')"
      ]
    },
    {
      "cell_type": "code",
      "execution_count": 180,
      "metadata": {
        "id": "znf5zAYAE514",
        "colab": {
          "base_uri": "https://localhost:8080/"
        },
        "outputId": "92567b3d-6ff5-41f3-d581-caa6e477ae44"
      },
      "outputs": [
        {
          "output_type": "stream",
          "name": "stderr",
          "text": [
            "/usr/local/lib/python3.7/dist-packages/ipykernel_launcher.py:3: FutureWarning: Indexing with multiple keys (implicitly converted to a tuple of keys) will be deprecated, use a list instead.\n",
            "  This is separate from the ipykernel package so we can avoid doing imports until\n"
          ]
        }
      ],
      "source": [
        "#creating 2 metrics to get average pledge per backer for a category in a year according to the goal bucket it lies in and the success rate ie average pledged to goal ratio for the category and goal bucket in this year\n",
        "#using pledge_per_backer (computed earlier) and averaging it by category in a launch year\n",
        "ks_ppb_goal=pd.DataFrame(kick_projects.groupby(['category','launched_year','goal_cat_perc'])['pledge_per_backer','goal_reached'].mean())\n",
        "#since the above table has all group by columns created as index, converting them into columns\n",
        "ks_ppb_goal.reset_index(inplace=True)\n",
        "#renaming column\n",
        "ks_ppb_goal.columns= ['category','launched_year','goal_cat_perc','avg_ppb_goal','avg_success_rate_goal']\n",
        "\n",
        "#creating a metric: the success rate ie average pledged to goal ratio for the category in this year\n",
        "ks_ppb_duration=pd.DataFrame(kick_projects.groupby(['category','launched_year','duration_cat_perc'])['goal_reached'].mean())\n",
        "#since the above table has all group by columns created as index, converting them into columns\n",
        "ks_ppb_duration.reset_index(inplace=True)\n",
        "#renaming column\n",
        "ks_ppb_duration.columns= ['category','launched_year','duration_cat_perc','avg_success_rate_duration']"
      ]
    },
    {
      "cell_type": "code",
      "execution_count": 181,
      "metadata": {
        "id": "c4NqrKoEE516"
      },
      "outputs": [],
      "source": [
        "#merging the particpants column into the base table\n",
        "kick_projects = pd.merge(kick_projects, ks_ppb_goal, on = ['category', 'launched_year','goal_cat_perc'], how = 'left')\n",
        "kick_projects = pd.merge(kick_projects, ks_ppb_duration, on = ['category', 'launched_year','duration_cat_perc'], how = 'left')"
      ]
    },
    {
      "cell_type": "code",
      "execution_count": 182,
      "metadata": {
        "id": "h4vPWLP_E517"
      },
      "outputs": [],
      "source": [
        "#creating 2 metrics: mean and median goal amount\n",
        "median_goal_cat=pd.DataFrame(kick_projects.groupby(['category','launched_year','duration_cat_perc'])['goal'].median())\n",
        "#since the above table has all group by columns created as index, converting them into columns\n",
        "median_goal_cat.reset_index(inplace=True)\n",
        "#renaming column\n",
        "median_goal_cat.columns= ['category','launched_year','duration_cat_perc','median_goal_year']\n",
        "\n",
        "mean_goal_cat=pd.DataFrame(kick_projects.groupby(['category','launched_year','duration_cat_perc'])['goal'].mean())\n",
        "#since the above table has all group by columns created as index, converting them into columns\n",
        "mean_goal_cat.reset_index(inplace=True)\n",
        "#renaming column\n",
        "mean_goal_cat.columns= ['category','launched_year','duration_cat_perc','mean_goal_year']"
      ]
    },
    {
      "cell_type": "code",
      "execution_count": 183,
      "metadata": {
        "id": "Jvw1E8cbE518"
      },
      "outputs": [],
      "source": [
        "#merging the particpants column into the base table\n",
        "kick_projects = pd.merge(kick_projects, median_goal_cat, on = ['category', 'launched_year','duration_cat_perc'], how = 'left')\n",
        "kick_projects = pd.merge(kick_projects, mean_goal_cat, on = ['category', 'launched_year','duration_cat_perc'], how = 'left')"
      ]
    },
    {
      "cell_type": "code",
      "execution_count": 184,
      "metadata": {
        "id": "DP7iBVb3E519"
      },
      "outputs": [],
      "source": [
        "#print(kick_projects.shape)\n",
        "#kick_projects[:3]"
      ]
    },
    {
      "cell_type": "code",
      "execution_count": 185,
      "metadata": {
        "id": "UwP-ke7FE51-"
      },
      "outputs": [],
      "source": [
        "# replacing all 'N,0\"' values in the country column with 'NZERO' to avoid discrepancies while one hot encoding\n",
        "kick_projects = kick_projects.replace({'country': 'N,0\"'}, {'country': 'NZERO'}, regex=True)"
      ]
    },
    {
      "cell_type": "code",
      "execution_count": 186,
      "metadata": {
        "id": "sd-2Wo7WE51_"
      },
      "outputs": [],
      "source": [
        "#kick_projects[:3]"
      ]
    },
    {
      "cell_type": "code",
      "execution_count": 187,
      "metadata": {
        "id": "4PRJmnkAE52A"
      },
      "outputs": [],
      "source": [
        "#selecting the needed fields only\n",
        "#this will lead to the final features list\n",
        "\n",
        "#creating a list of columns to be dropped\n",
        "drop_columns= ['name','launched','deadline','launched_date','deadline_date','pledged','backers','usd_pledged','usd_pledged_real','pledge_per_backer','goal_reached']\n",
        "#dropping columns above\n",
        "kick_projects.drop(drop_columns, axis=1, inplace=True)"
      ]
    },
    {
      "cell_type": "code",
      "execution_count": 188,
      "metadata": {
        "id": "l15oXkz1E52B"
      },
      "outputs": [],
      "source": [
        "#these functions will be used on the textual column entries to remove '&','-' or white spaces\n",
        "def replace_ampersand(val):\n",
        "    if isinstance(val, str):\n",
        "        return(val.replace('&', 'and'))\n",
        "    else:\n",
        "        return(val)\n",
        "\n",
        "def replace_hyphen(val):\n",
        "    if isinstance(val, str):\n",
        "        return(val.replace('-', '_'))\n",
        "    else:\n",
        "        return(val)    \n",
        "    \n",
        "def remove_extraspace(val):\n",
        "        if isinstance(val, str):\n",
        "            return(val.strip())\n",
        "        else:\n",
        "            return(val) \n",
        "\n",
        "def replace_space(val):\n",
        "        if isinstance(val, str):\n",
        "            return(val.replace(' ', '_'))\n",
        "        else:\n",
        "            return(val)         "
      ]
    },
    {
      "cell_type": "code",
      "execution_count": 189,
      "metadata": {
        "id": "33ld63tIE52C"
      },
      "outputs": [],
      "source": [
        "#apply those functions to all cat columns\n",
        "#this will remove special characters from the character columns.\n",
        "#Since these fields will be one-hot encoded, the column names so derived should \n",
        "#be compatible with the requied format\n",
        "kick_projects['category'] = kick_projects['category'].apply(remove_extraspace)\n",
        "kick_projects['category'] = kick_projects['category'].apply(replace_ampersand)\n",
        "kick_projects['category'] = kick_projects['category'].apply(replace_hyphen)\n",
        "kick_projects['category'] = kick_projects['category'].apply(replace_space)\n",
        "\n",
        "kick_projects['main_category'] = kick_projects['main_category'].apply(remove_extraspace)\n",
        "kick_projects['main_category'] = kick_projects['main_category'].apply(replace_ampersand)\n",
        "kick_projects['main_category'] = kick_projects['main_category'].apply(replace_hyphen)\n",
        "kick_projects['main_category'] = kick_projects['main_category'].apply(replace_space)"
      ]
    },
    {
      "cell_type": "code",
      "execution_count": 190,
      "metadata": {
        "id": "T83pq6oeE52D"
      },
      "outputs": [],
      "source": [
        "#missing value treatment\n",
        "# Check for nulls.\n",
        "#kick_projects.isnull().sum()"
      ]
    },
    {
      "cell_type": "markdown",
      "metadata": {
        "id": "6nuwDD6pE52E"
      },
      "source": [
        "There are only 3 rows with nulls, and the rows with nulls have no names. These rows can be removed."
      ]
    },
    {
      "cell_type": "code",
      "execution_count": 191,
      "metadata": {
        "id": "Y41CN3MCE52E"
      },
      "outputs": [],
      "source": [
        "#dropping all rows that have any nulls\n",
        "kick_projects=kick_projects.dropna() "
      ]
    },
    {
      "cell_type": "code",
      "execution_count": 192,
      "metadata": {
        "id": "kPyH-iXFE52F"
      },
      "outputs": [],
      "source": [
        "# Check for nulls again.\n",
        "#kick_projects.isnull().sum()"
      ]
    },
    {
      "cell_type": "markdown",
      "metadata": {
        "id": "I7uRw5TxE52G"
      },
      "source": [
        "No nulls, we are good to go"
      ]
    },
    {
      "cell_type": "code",
      "execution_count": 193,
      "metadata": {
        "id": "L2e5ogSpE52G"
      },
      "outputs": [],
      "source": [
        "#creating a backup copy of the dataset\n",
        "kick_projects_copy= kick_projects.copy()\n",
        "\n",
        "#kick_projects_copy[:5]"
      ]
    },
    {
      "cell_type": "code",
      "execution_count": 194,
      "metadata": {
        "id": "N6UlZtUJWjVG"
      },
      "outputs": [],
      "source": [
        "#from pathlib import Path  \n",
        "#filepath = Path('/content/kick_projects_copy.csv')  \n",
        "#kick_projects_copy.to_csv(filepath)"
      ]
    },
    {
      "cell_type": "code",
      "source": [
        "#kick_projects = pd.read_csv('kick_projects_copy.csv')"
      ],
      "metadata": {
        "id": "k5jFfgCeMCxp"
      },
      "execution_count": 195,
      "outputs": []
    },
    {
      "cell_type": "code",
      "execution_count": 196,
      "metadata": {
        "id": "L4gThmOrE52H",
        "colab": {
          "base_uri": "https://localhost:8080/"
        },
        "outputId": "e77a7329-5ed3-4425-df91-8c956df33ea0"
      },
      "outputs": [
        {
          "output_type": "stream",
          "name": "stdout",
          "text": [
            "{'Fashion': 0, 'Shorts': 1, 'Illustration': 2, 'Software': 3, 'Journalism': 4, 'Fiction': 5, 'Rock': 6, 'Photography': 7, 'Puzzles': 8, 'Graphic_Design': 9, 'Film_and_Video': 10, 'Publishing': 11, 'Documentary': 12, 'Theater': 13, 'Sculpture': 14, 'Electronic_Music': 15, 'Nonfiction': 16, 'Painting': 17, 'Indie_Rock': 18, 'Public_Art': 19, 'Art': 20, 'Crafts': 21, 'Jazz': 22, 'Music': 23, 'Comics': 24, \"Children's_Books\": 25, 'Narrative_Film': 26, 'Tabletop_Games': 27, 'Video_Games': 28, 'Digital_Art': 29, 'Food': 30, 'Animation': 31, 'Conceptual_Art': 32, 'Pop': 33, 'Hip_Hop': 34, 'Country_and_Folk': 35, 'Periodicals': 36, 'Webseries': 37, 'Product_Design': 38, 'Performance_Art': 39, 'Art_Books': 40, 'World_Music': 41, 'Knitting': 42, 'Technology': 43, 'Classical_Music': 44, 'Graphic_Novels': 45, 'Poetry': 46, 'Radio_and_Podcasts': 47, 'Design': 48, 'Hardware': 49, 'Webcomics': 50, 'Dance': 51, 'Translations': 52, 'Crochet': 53, 'Games': 54, 'Photo': 55, 'Mixed_Media': 56, 'Space_Exploration': 57, 'Photobooks': 58, 'Musical': 59, 'Audio': 60, 'Community_Gardens': 61, 'RandB': 62, 'Fabrication_Tools': 63, 'Textiles': 64, 'Architecture': 65, 'Immersive': 66, 'Literary_Journals': 67, 'Spaces': 68, 'Video': 69, 'Apps': 70, 'DIY_Electronics': 71, 'Academic': 72, 'Experimental': 73, 'Anthologies': 74, 'Plays': 75, 'Video_Art': 76, 'Comic_Books': 77, 'Letterpress': 78, 'Couture': 79, 'Robots': 80, 'Festivals': 81, 'Installations': 82, 'Sound': 83, 'Typography': 84, 'Stationery': 85, 'Camera_Equipment': 86, 'Horror': 87, 'Flight': 88, 'Residencies': 89, 'Workshops': 90, 'Chiptune': 91, 'Civic_Design': 92, 'Weaving': 93, 'Young_Adult': 94, 'Web': 95, 'Makerspaces': 96, 'Glass': 97, 'Quilts': 98, 'Pottery': 99, 'Romance': 100, 'Ceramics': 101, 'Embroidery': 102, 'Candles': 103, 'DIY': 104, 'Printing': 105, 'Gadgets': 106, 'Zines': 107, 'Kids': 108, 'Footwear': 109, 'Pet_Fashion': 110, 'Events': 111, 'Thrillers': 112, 'Woodworking': 113, 'Animals': 114, 'Vegan': 115, 'Ready_to_wear': 116, 'Gaming_Hardware': 117, 'Movie_Theaters': 118, 'Accessories': 119, 'Punk': 120, 'Metal': 121, 'Bacon': 122, 'Family': 123, 'Food_Trucks': 124, 'Fantasy': 125, 'Places': 126, 'Live_Games': 127, 'Science_Fiction': 128, 'Drama': 129, 'Latin': 130, 'Calendars': 131, 'Television': 132, 'Music_Videos': 133, 'Apparel': 134, 'Comedy': 135, 'Faith': 136, 'Restaurants': 137, 'Nature': 138, 'Cookbooks': 139, 'Drinks': 140, '3D_Printing': 141, 'People': 142, 'Childrenswear': 143, \"Farmer's_Markets\": 144, 'Jewelry': 145, 'Interactive_Design': 146, 'Fine_Art': 147, 'Blues': 148, 'Wearables': 149, 'Small_Batch': 150, 'Farms': 151, 'Action': 152, 'Performances': 153, 'Playing_Cards': 154, 'Mobile_Games': 155, 'Taxidermy': 156, 'Print': 157, 'Literary_Spaces': 158}\n",
            "{'Fashion': 0, 'Film_and_Video': 1, 'Art': 2, 'Technology': 3, 'Journalism': 4, 'Publishing': 5, 'Music': 6, 'Photography': 7, 'Games': 8, 'Design': 9, 'Theater': 10, 'Crafts': 11, 'Comics': 12, 'Food': 13, 'Dance': 14}\n",
            "{'USD': 0, 'GBP': 1, 'CAD': 2, 'AUD': 3, 'NZD': 4, 'EUR': 5, 'SEK': 6, 'DKK': 7, 'NOK': 8, 'CHF': 9, 'SGD': 10, 'HKD': 11, 'MXN': 12, 'JPY': 13}\n",
            "{'US': 0, 'GB': 1, 'NZERO': 2, 'CA': 3, 'AU': 4, 'NZ': 5, 'NL': 6, 'SE': 7, 'DK': 8, 'NO': 9, 'IE': 10, 'DE': 11, 'FR': 12, 'ES': 13, 'BE': 14, 'IT': 15, 'CH': 16, 'AT': 17, 'LU': 18, 'SG': 19, 'HK': 20, 'MX': 21, 'JP': 22}\n"
          ]
        }
      ],
      "source": [
        "for c in kick_projects.columns:\n",
        "    #this gives us the list of columns and the respective data types\n",
        "    col_type = kick_projects[c].dtype\n",
        "    #looking through all categorical columns in the list above\n",
        "    if col_type == 'object' :\n",
        "        a=kick_projects[c].unique()\n",
        "        keys= range(a.shape[0])\n",
        "        #initiating a dictionary\n",
        "        diction={}\n",
        "        for idx,val in enumerate(a):\n",
        "        #looping through to create the dictionary with mappings\n",
        "            diction[idx] = a[idx]\n",
        "        #the above step maps integers to the values in the column\n",
        "        # hence inverting the key-value pairs\n",
        "        diction = {v: k for k, v in diction.items()}\n",
        "        print(diction)\n",
        "        # creating a dictionary for mapping the values to integers\n",
        "        kick_projects_copy[c] = [diction[item] for item in kick_projects_copy[c]] \n",
        "        # converting data type to 'category'\n",
        "        kick_projects_copy[c] = kick_projects_copy[c].astype('category')"
      ]
    },
    {
      "cell_type": "code",
      "source": [
        "le = preprocessing.LabelEncoder()"
      ],
      "metadata": {
        "id": "wbvwXBvYd2Nu"
      },
      "execution_count": 197,
      "outputs": []
    },
    {
      "cell_type": "code",
      "source": [
        "#category_dic = pd.DataFrame([le.fit_transform(kick_projects['category']),le.inverse_transform(le.fit_transform(kick_projects['category']))])\n",
        "#category_dic.to_csv('category_dictionary.csv')"
      ],
      "metadata": {
        "id": "VSl_h09gv12N"
      },
      "execution_count": 198,
      "outputs": []
    },
    {
      "cell_type": "code",
      "source": [
        "#test = le.fit_transform(kick_projects['category']"
      ],
      "metadata": {
        "id": "CdlQYOiQGUhq"
      },
      "execution_count": 199,
      "outputs": []
    },
    {
      "cell_type": "code",
      "source": [
        "#main_category_dic = pd.DataFrame([le.fit_transform(kick_projects['main_category']),le.inverse_transform(le.fit_transform(kick_projects['main_category']))])\n",
        "#main_category_dic.to_csv('main_category_dictionary.csv')"
      ],
      "metadata": {
        "id": "I8v_1UC3Wfu2"
      },
      "execution_count": 200,
      "outputs": []
    },
    {
      "cell_type": "code",
      "source": [
        "#currency_dic = pd.DataFrame([le.fit_transform(kick_projects['currency']),le.inverse_transform(le.fit_transform(kick_projects['currency']))])\n",
        "#currency_dic.to_csv('currency_dictionary.csv')"
      ],
      "metadata": {
        "id": "45LWdU5yeKN4"
      },
      "execution_count": 201,
      "outputs": []
    },
    {
      "cell_type": "code",
      "source": [
        "dic_test_df = pd.DataFrame(le.fit_transform(kick_projects['category']))"
      ],
      "metadata": {
        "id": "OpoqVK1PT_4V"
      },
      "execution_count": 202,
      "outputs": []
    },
    {
      "cell_type": "code",
      "source": [
        "dic_test_arr = le.fit_transform(kick_projects['category'])\n",
        "dic_test_arr"
      ],
      "metadata": {
        "colab": {
          "base_uri": "https://localhost:8080/"
        },
        "id": "TvJlfHETUz64",
        "outputId": "d4c25c5b-a638-4c71-e912-4335b0c55f45"
      },
      "execution_count": 203,
      "outputs": [
        {
          "output_type": "execute_result",
          "data": {
            "text/plain": [
              "array([ 52, 129,  70, ...,   7, 136,  68])"
            ]
          },
          "metadata": {},
          "execution_count": 203
        }
      ]
    },
    {
      "cell_type": "code",
      "source": [
        "drop_columns2= ['currency','country', 'name_exclaim', 'name_question' ,'name_words' ,'name_is_upper' ,'goal_log' ,'Goal_10' ,'Goal_1000' ,'Goal_100' ,'Goal_500' ,'goal' ,'launched_quarter' ,'launched_month' ,'launched_week' ,'goal_cat_perc' ,'duration_cat_perc','participants_mth', 'participants_wk', 'median_goal_year']\n",
        "#dropping columns above\n",
        "kick_projects.drop(drop_columns2, axis=1, inplace=True)"
      ],
      "metadata": {
        "id": "vGCdYo39pdH_"
      },
      "execution_count": 204,
      "outputs": []
    },
    {
      "cell_type": "code",
      "source": [
        "kick_projects.loc[435]"
      ],
      "metadata": {
        "colab": {
          "base_uri": "https://localhost:8080/"
        },
        "id": "mRLlutyjWSJ_",
        "outputId": "29afc1b3-835e-4af1-8c41-3d3f910550c9"
      },
      "execution_count": 205,
      "outputs": [
        {
          "output_type": "execute_result",
          "data": {
            "text/plain": [
              "category                     Photography\n",
              "main_category                Photography\n",
              "state                                  0\n",
              "usd_goal_real                     1500.0\n",
              "name_len                            38.0\n",
              "duration                              87\n",
              "launched_year                       2009\n",
              "participants_qtr                      13\n",
              "avg_ppb_goal                   39.690597\n",
              "avg_success_rate_goal           1.207638\n",
              "avg_success_rate_duration       0.716354\n",
              "mean_goal_year               2986.559556\n",
              "Name: 435, dtype: object"
            ]
          },
          "metadata": {},
          "execution_count": 205
        }
      ]
    },
    {
      "cell_type": "code",
      "source": [
        "#country_dic = pd.DataFrame([le.fit_transform(kick_projects['country']),le.inverse_transform(kick_projects['country']))\n",
        "#country_dic.to_csv('country_dictionary.csv')"
      ],
      "metadata": {
        "id": "MzAH9RAaepzN"
      },
      "execution_count": 206,
      "outputs": []
    },
    {
      "cell_type": "code",
      "source": [
        "kick_projects_ip = pd.DataFrame()\n",
        "\n",
        "kick_projects_ip['category'] = le.fit_transform(kick_projects['category'])\n",
        "kick_projects_ip['main_category'] = le.fit_transform(kick_projects['main_category'])"
      ],
      "metadata": {
        "id": "7yaTc5I8j7rq"
      },
      "execution_count": 207,
      "outputs": []
    },
    {
      "cell_type": "code",
      "source": [
        "dropCol = ['category','main_category']\n",
        "pd.concat([kick_projects_ip,kick_projects.drop(columns = dropCol)], axis=1)"
      ],
      "metadata": {
        "id": "rXtGzWqWmCS9",
        "colab": {
          "base_uri": "https://localhost:8080/",
          "height": 487
        },
        "outputId": "3b18606c-3512-4b95-b4e4-d7d785276cfe"
      },
      "execution_count": 208,
      "outputs": [
        {
          "output_type": "execute_result",
          "data": {
            "text/plain": [
              "        category  main_category  state  usd_goal_real  name_len  duration  \\\n",
              "0           52.0            5.0    0.0        1000.00      59.0      39.0   \n",
              "1          129.0            6.0    0.0       80000.00      30.0      87.0   \n",
              "2           70.0            0.0    1.0          20.00      19.0       8.0   \n",
              "3          131.0           13.0    1.0          99.00      28.0      79.0   \n",
              "4           52.0            5.0    0.0        1900.00      10.0      28.0   \n",
              "...          ...            ...    ...            ...       ...       ...   \n",
              "331670     136.0            8.0    1.0          35.98      20.0       2.0   \n",
              "331671      68.0           10.0    1.0         271.03      48.0       4.0   \n",
              "331672       NaN            NaN    1.0         200.00      20.0       3.0   \n",
              "331673       NaN            NaN    1.0         250.00      14.0       1.0   \n",
              "331674       NaN            NaN    1.0         392.06      29.0       2.0   \n",
              "\n",
              "        launched_year  participants_qtr  avg_ppb_goal  avg_success_rate_goal  \\\n",
              "0              2009.0               3.0     40.982361               0.325542   \n",
              "1              2009.0               1.0     65.203511               0.274317   \n",
              "2              2009.0               3.0     13.095238               0.552500   \n",
              "3              2009.0               7.0     36.765524               0.572958   \n",
              "4              2009.0               3.0     40.982361               0.325542   \n",
              "...               ...               ...           ...                    ...   \n",
              "331670         2017.0              23.0     36.799397               2.953141   \n",
              "331671         2017.0             245.0     44.882036              18.711116   \n",
              "331672         2017.0              90.0     35.351686               1.420548   \n",
              "331673         2017.0             245.0     44.882036              18.711116   \n",
              "331674         2017.0              24.0     18.052955               0.360409   \n",
              "\n",
              "        avg_success_rate_duration  mean_goal_year  \n",
              "0                        0.314024     5011.470588  \n",
              "1                        0.433184     9675.250000  \n",
              "2                        0.508929      437.500000  \n",
              "3                        0.611654     4358.076923  \n",
              "4                        0.256781     1600.000000  \n",
              "...                           ...             ...  \n",
              "331670                   1.540368    29724.629371  \n",
              "331671                  10.934493    11423.117560  \n",
              "331672                   0.984520    19187.261388  \n",
              "331673                  10.934493    11423.117560  \n",
              "331674                   0.262071    20636.614407  \n",
              "\n",
              "[331675 rows x 12 columns]"
            ],
            "text/html": [
              "\n",
              "  <div id=\"df-8d0eea63-ca9c-4d1b-aa44-6a068fe8fb35\">\n",
              "    <div class=\"colab-df-container\">\n",
              "      <div>\n",
              "<style scoped>\n",
              "    .dataframe tbody tr th:only-of-type {\n",
              "        vertical-align: middle;\n",
              "    }\n",
              "\n",
              "    .dataframe tbody tr th {\n",
              "        vertical-align: top;\n",
              "    }\n",
              "\n",
              "    .dataframe thead th {\n",
              "        text-align: right;\n",
              "    }\n",
              "</style>\n",
              "<table border=\"1\" class=\"dataframe\">\n",
              "  <thead>\n",
              "    <tr style=\"text-align: right;\">\n",
              "      <th></th>\n",
              "      <th>category</th>\n",
              "      <th>main_category</th>\n",
              "      <th>state</th>\n",
              "      <th>usd_goal_real</th>\n",
              "      <th>name_len</th>\n",
              "      <th>duration</th>\n",
              "      <th>launched_year</th>\n",
              "      <th>participants_qtr</th>\n",
              "      <th>avg_ppb_goal</th>\n",
              "      <th>avg_success_rate_goal</th>\n",
              "      <th>avg_success_rate_duration</th>\n",
              "      <th>mean_goal_year</th>\n",
              "    </tr>\n",
              "  </thead>\n",
              "  <tbody>\n",
              "    <tr>\n",
              "      <th>0</th>\n",
              "      <td>52.0</td>\n",
              "      <td>5.0</td>\n",
              "      <td>0.0</td>\n",
              "      <td>1000.00</td>\n",
              "      <td>59.0</td>\n",
              "      <td>39.0</td>\n",
              "      <td>2009.0</td>\n",
              "      <td>3.0</td>\n",
              "      <td>40.982361</td>\n",
              "      <td>0.325542</td>\n",
              "      <td>0.314024</td>\n",
              "      <td>5011.470588</td>\n",
              "    </tr>\n",
              "    <tr>\n",
              "      <th>1</th>\n",
              "      <td>129.0</td>\n",
              "      <td>6.0</td>\n",
              "      <td>0.0</td>\n",
              "      <td>80000.00</td>\n",
              "      <td>30.0</td>\n",
              "      <td>87.0</td>\n",
              "      <td>2009.0</td>\n",
              "      <td>1.0</td>\n",
              "      <td>65.203511</td>\n",
              "      <td>0.274317</td>\n",
              "      <td>0.433184</td>\n",
              "      <td>9675.250000</td>\n",
              "    </tr>\n",
              "    <tr>\n",
              "      <th>2</th>\n",
              "      <td>70.0</td>\n",
              "      <td>0.0</td>\n",
              "      <td>1.0</td>\n",
              "      <td>20.00</td>\n",
              "      <td>19.0</td>\n",
              "      <td>8.0</td>\n",
              "      <td>2009.0</td>\n",
              "      <td>3.0</td>\n",
              "      <td>13.095238</td>\n",
              "      <td>0.552500</td>\n",
              "      <td>0.508929</td>\n",
              "      <td>437.500000</td>\n",
              "    </tr>\n",
              "    <tr>\n",
              "      <th>3</th>\n",
              "      <td>131.0</td>\n",
              "      <td>13.0</td>\n",
              "      <td>1.0</td>\n",
              "      <td>99.00</td>\n",
              "      <td>28.0</td>\n",
              "      <td>79.0</td>\n",
              "      <td>2009.0</td>\n",
              "      <td>7.0</td>\n",
              "      <td>36.765524</td>\n",
              "      <td>0.572958</td>\n",
              "      <td>0.611654</td>\n",
              "      <td>4358.076923</td>\n",
              "    </tr>\n",
              "    <tr>\n",
              "      <th>4</th>\n",
              "      <td>52.0</td>\n",
              "      <td>5.0</td>\n",
              "      <td>0.0</td>\n",
              "      <td>1900.00</td>\n",
              "      <td>10.0</td>\n",
              "      <td>28.0</td>\n",
              "      <td>2009.0</td>\n",
              "      <td>3.0</td>\n",
              "      <td>40.982361</td>\n",
              "      <td>0.325542</td>\n",
              "      <td>0.256781</td>\n",
              "      <td>1600.000000</td>\n",
              "    </tr>\n",
              "    <tr>\n",
              "      <th>...</th>\n",
              "      <td>...</td>\n",
              "      <td>...</td>\n",
              "      <td>...</td>\n",
              "      <td>...</td>\n",
              "      <td>...</td>\n",
              "      <td>...</td>\n",
              "      <td>...</td>\n",
              "      <td>...</td>\n",
              "      <td>...</td>\n",
              "      <td>...</td>\n",
              "      <td>...</td>\n",
              "      <td>...</td>\n",
              "    </tr>\n",
              "    <tr>\n",
              "      <th>331670</th>\n",
              "      <td>136.0</td>\n",
              "      <td>8.0</td>\n",
              "      <td>1.0</td>\n",
              "      <td>35.98</td>\n",
              "      <td>20.0</td>\n",
              "      <td>2.0</td>\n",
              "      <td>2017.0</td>\n",
              "      <td>23.0</td>\n",
              "      <td>36.799397</td>\n",
              "      <td>2.953141</td>\n",
              "      <td>1.540368</td>\n",
              "      <td>29724.629371</td>\n",
              "    </tr>\n",
              "    <tr>\n",
              "      <th>331671</th>\n",
              "      <td>68.0</td>\n",
              "      <td>10.0</td>\n",
              "      <td>1.0</td>\n",
              "      <td>271.03</td>\n",
              "      <td>48.0</td>\n",
              "      <td>4.0</td>\n",
              "      <td>2017.0</td>\n",
              "      <td>245.0</td>\n",
              "      <td>44.882036</td>\n",
              "      <td>18.711116</td>\n",
              "      <td>10.934493</td>\n",
              "      <td>11423.117560</td>\n",
              "    </tr>\n",
              "    <tr>\n",
              "      <th>331672</th>\n",
              "      <td>NaN</td>\n",
              "      <td>NaN</td>\n",
              "      <td>1.0</td>\n",
              "      <td>200.00</td>\n",
              "      <td>20.0</td>\n",
              "      <td>3.0</td>\n",
              "      <td>2017.0</td>\n",
              "      <td>90.0</td>\n",
              "      <td>35.351686</td>\n",
              "      <td>1.420548</td>\n",
              "      <td>0.984520</td>\n",
              "      <td>19187.261388</td>\n",
              "    </tr>\n",
              "    <tr>\n",
              "      <th>331673</th>\n",
              "      <td>NaN</td>\n",
              "      <td>NaN</td>\n",
              "      <td>1.0</td>\n",
              "      <td>250.00</td>\n",
              "      <td>14.0</td>\n",
              "      <td>1.0</td>\n",
              "      <td>2017.0</td>\n",
              "      <td>245.0</td>\n",
              "      <td>44.882036</td>\n",
              "      <td>18.711116</td>\n",
              "      <td>10.934493</td>\n",
              "      <td>11423.117560</td>\n",
              "    </tr>\n",
              "    <tr>\n",
              "      <th>331674</th>\n",
              "      <td>NaN</td>\n",
              "      <td>NaN</td>\n",
              "      <td>1.0</td>\n",
              "      <td>392.06</td>\n",
              "      <td>29.0</td>\n",
              "      <td>2.0</td>\n",
              "      <td>2017.0</td>\n",
              "      <td>24.0</td>\n",
              "      <td>18.052955</td>\n",
              "      <td>0.360409</td>\n",
              "      <td>0.262071</td>\n",
              "      <td>20636.614407</td>\n",
              "    </tr>\n",
              "  </tbody>\n",
              "</table>\n",
              "<p>331675 rows × 12 columns</p>\n",
              "</div>\n",
              "      <button class=\"colab-df-convert\" onclick=\"convertToInteractive('df-8d0eea63-ca9c-4d1b-aa44-6a068fe8fb35')\"\n",
              "              title=\"Convert this dataframe to an interactive table.\"\n",
              "              style=\"display:none;\">\n",
              "        \n",
              "  <svg xmlns=\"http://www.w3.org/2000/svg\" height=\"24px\"viewBox=\"0 0 24 24\"\n",
              "       width=\"24px\">\n",
              "    <path d=\"M0 0h24v24H0V0z\" fill=\"none\"/>\n",
              "    <path d=\"M18.56 5.44l.94 2.06.94-2.06 2.06-.94-2.06-.94-.94-2.06-.94 2.06-2.06.94zm-11 1L8.5 8.5l.94-2.06 2.06-.94-2.06-.94L8.5 2.5l-.94 2.06-2.06.94zm10 10l.94 2.06.94-2.06 2.06-.94-2.06-.94-.94-2.06-.94 2.06-2.06.94z\"/><path d=\"M17.41 7.96l-1.37-1.37c-.4-.4-.92-.59-1.43-.59-.52 0-1.04.2-1.43.59L10.3 9.45l-7.72 7.72c-.78.78-.78 2.05 0 2.83L4 21.41c.39.39.9.59 1.41.59.51 0 1.02-.2 1.41-.59l7.78-7.78 2.81-2.81c.8-.78.8-2.07 0-2.86zM5.41 20L4 18.59l7.72-7.72 1.47 1.35L5.41 20z\"/>\n",
              "  </svg>\n",
              "      </button>\n",
              "      \n",
              "  <style>\n",
              "    .colab-df-container {\n",
              "      display:flex;\n",
              "      flex-wrap:wrap;\n",
              "      gap: 12px;\n",
              "    }\n",
              "\n",
              "    .colab-df-convert {\n",
              "      background-color: #E8F0FE;\n",
              "      border: none;\n",
              "      border-radius: 50%;\n",
              "      cursor: pointer;\n",
              "      display: none;\n",
              "      fill: #1967D2;\n",
              "      height: 32px;\n",
              "      padding: 0 0 0 0;\n",
              "      width: 32px;\n",
              "    }\n",
              "\n",
              "    .colab-df-convert:hover {\n",
              "      background-color: #E2EBFA;\n",
              "      box-shadow: 0px 1px 2px rgba(60, 64, 67, 0.3), 0px 1px 3px 1px rgba(60, 64, 67, 0.15);\n",
              "      fill: #174EA6;\n",
              "    }\n",
              "\n",
              "    [theme=dark] .colab-df-convert {\n",
              "      background-color: #3B4455;\n",
              "      fill: #D2E3FC;\n",
              "    }\n",
              "\n",
              "    [theme=dark] .colab-df-convert:hover {\n",
              "      background-color: #434B5C;\n",
              "      box-shadow: 0px 1px 3px 1px rgba(0, 0, 0, 0.15);\n",
              "      filter: drop-shadow(0px 1px 2px rgba(0, 0, 0, 0.3));\n",
              "      fill: #FFFFFF;\n",
              "    }\n",
              "  </style>\n",
              "\n",
              "      <script>\n",
              "        const buttonEl =\n",
              "          document.querySelector('#df-8d0eea63-ca9c-4d1b-aa44-6a068fe8fb35 button.colab-df-convert');\n",
              "        buttonEl.style.display =\n",
              "          google.colab.kernel.accessAllowed ? 'block' : 'none';\n",
              "\n",
              "        async function convertToInteractive(key) {\n",
              "          const element = document.querySelector('#df-8d0eea63-ca9c-4d1b-aa44-6a068fe8fb35');\n",
              "          const dataTable =\n",
              "            await google.colab.kernel.invokeFunction('convertToInteractive',\n",
              "                                                     [key], {});\n",
              "          if (!dataTable) return;\n",
              "\n",
              "          const docLinkHtml = 'Like what you see? Visit the ' +\n",
              "            '<a target=\"_blank\" href=https://colab.research.google.com/notebooks/data_table.ipynb>data table notebook</a>'\n",
              "            + ' to learn more about interactive tables.';\n",
              "          element.innerHTML = '';\n",
              "          dataTable['output_type'] = 'display_data';\n",
              "          await google.colab.output.renderOutput(dataTable, element);\n",
              "          const docLink = document.createElement('div');\n",
              "          docLink.innerHTML = docLinkHtml;\n",
              "          element.appendChild(docLink);\n",
              "        }\n",
              "      </script>\n",
              "    </div>\n",
              "  </div>\n",
              "  "
            ]
          },
          "metadata": {},
          "execution_count": 208
        }
      ]
    },
    {
      "cell_type": "code",
      "execution_count": 209,
      "metadata": {
        "id": "qyTPLaXTE52K"
      },
      "outputs": [],
      "source": [
        "#creating a backup copy of the input dataset\n",
        "kick_projects_ip = pd.concat([kick_projects_ip,kick_projects.drop(columns = dropCol)], axis=1).fillna(0)"
      ]
    },
    {
      "cell_type": "code",
      "source": [
        "kick_projects_ip_copy = kick_projects_ip.copy()"
      ],
      "metadata": {
        "id": "jD9D1ba1olhI"
      },
      "execution_count": 210,
      "outputs": []
    },
    {
      "cell_type": "code",
      "source": [
        "features=kick_projects_ip_copy.drop(columns='state').columns\n",
        "#response has the target variable\n",
        "response = ['state']"
      ],
      "metadata": {
        "id": "OpoCmCQ5pZjR"
      },
      "execution_count": 211,
      "outputs": []
    },
    {
      "cell_type": "markdown",
      "metadata": {
        "id": "Id6em_waE52M"
      },
      "source": [
        "## Model Building"
      ]
    },
    {
      "cell_type": "code",
      "execution_count": 212,
      "metadata": {
        "id": "KjtGzadOE52N"
      },
      "outputs": [],
      "source": [
        "#creating test and train dependent and independent variables\n",
        "#Split the data into test and train (30-70: random sampling)\n",
        "#will be using the scaled dataset to split \n",
        "train_ind, test_ind, train_dep, test_dep = train_test_split(kick_projects_ip[features], kick_projects_ip[response], test_size=0.3, random_state=0)"
      ]
    },
    {
      "cell_type": "markdown",
      "metadata": {
        "id": "iGgo6L1SE52l"
      },
      "source": [
        "### LGBM"
      ]
    },
    {
      "cell_type": "markdown",
      "metadata": {
        "id": "ZIT9SlC0E52m"
      },
      "source": [
        "LGBM or LightGBM is yet another gradient boosting framework that uses tree-based learning algorithm. What sets it apart from conventional tree-based algorithms like XGBoost is that it grows trees vertically instead of horizontally splitting them. In other words, it means that LightGBM grows trees leaf-wise while other algorithms grows level-wise or depth-wise. \n",
        "\n",
        "The LGBM model chooses the leaf with maximum delta loss to grow. Thus, in the process of growing the same leaf, a leaf-wise algorithm can reduce more loss than any other level-wise algorithm. This results in better accuracy than most other tree-based learning algorithms. Additionally, as the name suggests, LightGBM is computationally less taxing and has faster execution speeds. "
      ]
    },
    {
      "cell_type": "code",
      "execution_count": 213,
      "metadata": {
        "id": "2Y8v9G51E52m"
      },
      "outputs": [],
      "source": [
        "import lightgbm as lgb"
      ]
    },
    {
      "cell_type": "code",
      "execution_count": 214,
      "metadata": {
        "colab": {
          "base_uri": "https://localhost:8080/"
        },
        "id": "_66hM3QhE52n",
        "outputId": "d6892233-7a78-4505-a702-fca8890ad172"
      },
      "outputs": [
        {
          "output_type": "stream",
          "name": "stderr",
          "text": [
            "/usr/local/lib/python3.7/dist-packages/sklearn/preprocessing/_label.py:98: DataConversionWarning: A column-vector y was passed when a 1d array was expected. Please change the shape of y to (n_samples, ), for example using ravel().\n",
            "  y = column_or_1d(y, warn=True)\n",
            "/usr/local/lib/python3.7/dist-packages/sklearn/preprocessing/_label.py:133: DataConversionWarning: A column-vector y was passed when a 1d array was expected. Please change the shape of y to (n_samples, ), for example using ravel().\n",
            "  y = column_or_1d(y, warn=True)\n"
          ]
        }
      ],
      "source": [
        "#создание модели классификации LGBM\n",
        "gbm_model = lgb.LGBMClassifier(\n",
        "        boosting_type= \"dart\",\n",
        "        n_estimators=1300,\n",
        "        learning_rate=0.08,\n",
        "        num_leaves=35,\n",
        "        colsample_bytree=.8,\n",
        "        subsample=.9,\n",
        "        max_depth=9,\n",
        "        reg_alpha=.1,\n",
        "        reg_lambda=.1,\n",
        "        min_split_gain=.01\n",
        ")\n",
        "\n",
        "#Подготовка модели к обучающим данным\n",
        "gbm_model=gbm_model.fit(train_ind[features], \n",
        "            train_dep[response], \n",
        "              verbose=0)"
      ]
    },
    {
      "cell_type": "markdown",
      "metadata": {
        "id": "gdEJRQ5lE52o"
      },
      "source": [
        "#### Predictions using LGBM"
      ]
    },
    {
      "cell_type": "code",
      "execution_count": 215,
      "metadata": {
        "id": "4u_oKAOxE52p"
      },
      "outputs": [],
      "source": [
        "# Predict the on the train_data\n",
        "test_ind[\"Pred_state_LGB\"] = gbm_model.predict(test_ind[features])\n",
        "\n",
        "# Predict the on the train_data\n",
        "train_ind[\"Pred_state_LGB\"] = gbm_model.predict(train_ind[features])\n",
        "\n",
        "# Predict the on the train_data\n",
        "#kick_projects_ip[\"Pred_state_LGB\"] = gbm_model.predict(kick_projects_ip_scaled_ftrs)"
      ]
    },
    {
      "cell_type": "code",
      "execution_count": 216,
      "metadata": {
        "colab": {
          "base_uri": "https://localhost:8080/"
        },
        "id": "zzFl2m9cgCdB",
        "outputId": "eaee28fe-1662-4530-cbd2-4e1dbb619018"
      },
      "outputs": [
        {
          "output_type": "stream",
          "name": "stderr",
          "text": [
            "/usr/local/lib/python3.7/dist-packages/lightgbm/basic.py:195: UserWarning: Usage of np.ndarray subset (sliced data) is not recommended due to it will double the peak memory cost in LightGBM.\n",
            "  warnings.warn(\"Usage of np.ndarray subset (sliced data) is not recommended \"\n"
          ]
        }
      ],
      "source": [
        "predict_status = gbm_model.predict_proba(train_ind[features].iloc[155].to_numpy().reshape(1, -1))"
      ]
    },
    {
      "cell_type": "code",
      "execution_count": 217,
      "metadata": {
        "id": "1WtGLah2rMXE",
        "colab": {
          "base_uri": "https://localhost:8080/"
        },
        "outputId": "12889ec2-426f-4a2e-eaee-879d8231fb93"
      },
      "outputs": [
        {
          "output_type": "execute_result",
          "data": {
            "text/plain": [
              "array([[9.60000000e+01, 0.00000000e+00, 3.72000000e+03, 4.90000000e+01,\n",
              "        4.00000000e+01, 2.01000000e+03, 1.30000000e+01, 5.92821876e+01,\n",
              "        5.55345694e-01, 6.00120191e-01, 5.67500000e+03]])"
            ]
          },
          "metadata": {},
          "execution_count": 217
        }
      ],
      "source": [
        "train_ind[features].iloc[157].to_numpy().reshape(1, -1)"
      ]
    },
    {
      "cell_type": "code",
      "execution_count": 218,
      "metadata": {
        "colab": {
          "base_uri": "https://localhost:8080/"
        },
        "id": "xKfk6C8kgb4c",
        "outputId": "b808b56d-f8ac-47fa-b916-45846bee8526"
      },
      "outputs": [
        {
          "output_type": "execute_result",
          "data": {
            "text/plain": [
              "array([[0.24718272, 0.75281728]])"
            ]
          },
          "metadata": {},
          "execution_count": 218
        }
      ],
      "source": [
        "#первое число: вер-ть неудачи\n",
        "#второе: вер-ть успеха\n",
        "predict_status"
      ]
    },
    {
      "cell_type": "code",
      "execution_count": 219,
      "metadata": {
        "colab": {
          "base_uri": "https://localhost:8080/"
        },
        "id": "YOFTgwZvjGUP",
        "outputId": "baeec6c5-335e-4a79-d98c-3dbda793d74f"
      },
      "outputs": [
        {
          "output_type": "execute_result",
          "data": {
            "text/plain": [
              "<lightgbm.basic.Booster at 0x7fc2286494d0>"
            ]
          },
          "metadata": {},
          "execution_count": 219
        }
      ],
      "source": [
        "gbm_model.booster_.save_model('lgbm_model_le.txt')"
      ]
    },
    {
      "cell_type": "markdown",
      "metadata": {
        "id": "oXXSrO50E52p"
      },
      "source": [
        "#### Model Evaluation"
      ]
    },
    {
      "cell_type": "code",
      "execution_count": 220,
      "metadata": {
        "colab": {
          "base_uri": "https://localhost:8080/"
        },
        "id": "cN0szHp_E52q",
        "outputId": "5c5627e3-b8f1-46dc-a0be-6772d51494c6"
      },
      "outputs": [
        {
          "output_type": "stream",
          "name": "stdout",
          "text": [
            "Точность на обучающей выборке:  0.7138931481832435\n",
            "Точность на тестовой выборке:  0.6963207139483232\n"
          ]
        }
      ],
      "source": [
        "# Точность на разных выборках\n",
        "print (\"Точность на обучающей выборке: \", accuracy_score(train_dep[response], \n",
        "                                                         gbm_model.predict(train_ind[features])))\n",
        "print (\"Точность на тестовой выборке: \", accuracy_score(test_dep[response], \n",
        "                                                        gbm_model.predict(test_ind[features])))\n",
        "#print (\"Итоговая точность: \", accuracy_score(kick_projects_ip[response], \n",
        "                                           #  gbm_model.predict(kick_projects_ip_scaled_ftrs)))"
      ]
    },
    {
      "cell_type": "code",
      "execution_count": 221,
      "metadata": {
        "id": "kJPZHh5GE52r",
        "colab": {
          "base_uri": "https://localhost:8080/"
        },
        "outputId": "33de210c-7672-49ea-9516-ffd34f5f6362"
      },
      "outputs": [
        {
          "output_type": "stream",
          "name": "stdout",
          "text": [
            "\n",
            "Classification metrics\n",
            "              precision    recall  f1-score   support\n",
            "\n",
            "         0.0       0.72      0.80      0.76     59250\n",
            "         1.0       0.65      0.55      0.59     40253\n",
            "\n",
            "    accuracy                           0.70     99503\n",
            "   macro avg       0.68      0.67      0.68     99503\n",
            "weighted avg       0.69      0.70      0.69     99503\n",
            "\n"
          ]
        }
      ],
      "source": [
        "# classification matrix\n",
        "print('\\nClassification metrics')\n",
        "print(classification_report(y_true=test_dep[response], y_pred=test_ind[\"Pred_state_LGB\"]))"
      ]
    },
    {
      "cell_type": "markdown",
      "metadata": {
        "id": "AcL4CQJDE52s"
      },
      "source": [
        "#### Feature Importances"
      ]
    },
    {
      "cell_type": "code",
      "execution_count": 222,
      "metadata": {
        "id": "AQ2GgfOwE52s"
      },
      "outputs": [],
      "source": [
        "## Feature importances\n",
        "ftr_imp_lgb=zip(features,gbm_model.feature_importances_)"
      ]
    },
    {
      "cell_type": "code",
      "execution_count": 223,
      "metadata": {
        "id": "qooUhYogE52t",
        "colab": {
          "base_uri": "https://localhost:8080/",
          "height": 394
        },
        "outputId": "499a475d-8aba-47b8-b5c1-3d737503a17b"
      },
      "outputs": [
        {
          "output_type": "execute_result",
          "data": {
            "text/plain": [
              "                     features  LGB_imp\n",
              "2               usd_goal_real     6327\n",
              "4                    duration     6078\n",
              "8       avg_success_rate_goal     5402\n",
              "9   avg_success_rate_duration     5380\n",
              "7                avg_ppb_goal     4497\n",
              "6            participants_qtr     4323\n",
              "10             mean_goal_year     3857\n",
              "3                    name_len     3356\n",
              "5               launched_year     2236\n",
              "0                    category     1722\n",
              "1               main_category     1022"
            ],
            "text/html": [
              "\n",
              "  <div id=\"df-c4c7eb34-0426-4cc1-947e-39a7155738c0\">\n",
              "    <div class=\"colab-df-container\">\n",
              "      <div>\n",
              "<style scoped>\n",
              "    .dataframe tbody tr th:only-of-type {\n",
              "        vertical-align: middle;\n",
              "    }\n",
              "\n",
              "    .dataframe tbody tr th {\n",
              "        vertical-align: top;\n",
              "    }\n",
              "\n",
              "    .dataframe thead th {\n",
              "        text-align: right;\n",
              "    }\n",
              "</style>\n",
              "<table border=\"1\" class=\"dataframe\">\n",
              "  <thead>\n",
              "    <tr style=\"text-align: right;\">\n",
              "      <th></th>\n",
              "      <th>features</th>\n",
              "      <th>LGB_imp</th>\n",
              "    </tr>\n",
              "  </thead>\n",
              "  <tbody>\n",
              "    <tr>\n",
              "      <th>2</th>\n",
              "      <td>usd_goal_real</td>\n",
              "      <td>6327</td>\n",
              "    </tr>\n",
              "    <tr>\n",
              "      <th>4</th>\n",
              "      <td>duration</td>\n",
              "      <td>6078</td>\n",
              "    </tr>\n",
              "    <tr>\n",
              "      <th>8</th>\n",
              "      <td>avg_success_rate_goal</td>\n",
              "      <td>5402</td>\n",
              "    </tr>\n",
              "    <tr>\n",
              "      <th>9</th>\n",
              "      <td>avg_success_rate_duration</td>\n",
              "      <td>5380</td>\n",
              "    </tr>\n",
              "    <tr>\n",
              "      <th>7</th>\n",
              "      <td>avg_ppb_goal</td>\n",
              "      <td>4497</td>\n",
              "    </tr>\n",
              "    <tr>\n",
              "      <th>6</th>\n",
              "      <td>participants_qtr</td>\n",
              "      <td>4323</td>\n",
              "    </tr>\n",
              "    <tr>\n",
              "      <th>10</th>\n",
              "      <td>mean_goal_year</td>\n",
              "      <td>3857</td>\n",
              "    </tr>\n",
              "    <tr>\n",
              "      <th>3</th>\n",
              "      <td>name_len</td>\n",
              "      <td>3356</td>\n",
              "    </tr>\n",
              "    <tr>\n",
              "      <th>5</th>\n",
              "      <td>launched_year</td>\n",
              "      <td>2236</td>\n",
              "    </tr>\n",
              "    <tr>\n",
              "      <th>0</th>\n",
              "      <td>category</td>\n",
              "      <td>1722</td>\n",
              "    </tr>\n",
              "    <tr>\n",
              "      <th>1</th>\n",
              "      <td>main_category</td>\n",
              "      <td>1022</td>\n",
              "    </tr>\n",
              "  </tbody>\n",
              "</table>\n",
              "</div>\n",
              "      <button class=\"colab-df-convert\" onclick=\"convertToInteractive('df-c4c7eb34-0426-4cc1-947e-39a7155738c0')\"\n",
              "              title=\"Convert this dataframe to an interactive table.\"\n",
              "              style=\"display:none;\">\n",
              "        \n",
              "  <svg xmlns=\"http://www.w3.org/2000/svg\" height=\"24px\"viewBox=\"0 0 24 24\"\n",
              "       width=\"24px\">\n",
              "    <path d=\"M0 0h24v24H0V0z\" fill=\"none\"/>\n",
              "    <path d=\"M18.56 5.44l.94 2.06.94-2.06 2.06-.94-2.06-.94-.94-2.06-.94 2.06-2.06.94zm-11 1L8.5 8.5l.94-2.06 2.06-.94-2.06-.94L8.5 2.5l-.94 2.06-2.06.94zm10 10l.94 2.06.94-2.06 2.06-.94-2.06-.94-.94-2.06-.94 2.06-2.06.94z\"/><path d=\"M17.41 7.96l-1.37-1.37c-.4-.4-.92-.59-1.43-.59-.52 0-1.04.2-1.43.59L10.3 9.45l-7.72 7.72c-.78.78-.78 2.05 0 2.83L4 21.41c.39.39.9.59 1.41.59.51 0 1.02-.2 1.41-.59l7.78-7.78 2.81-2.81c.8-.78.8-2.07 0-2.86zM5.41 20L4 18.59l7.72-7.72 1.47 1.35L5.41 20z\"/>\n",
              "  </svg>\n",
              "      </button>\n",
              "      \n",
              "  <style>\n",
              "    .colab-df-container {\n",
              "      display:flex;\n",
              "      flex-wrap:wrap;\n",
              "      gap: 12px;\n",
              "    }\n",
              "\n",
              "    .colab-df-convert {\n",
              "      background-color: #E8F0FE;\n",
              "      border: none;\n",
              "      border-radius: 50%;\n",
              "      cursor: pointer;\n",
              "      display: none;\n",
              "      fill: #1967D2;\n",
              "      height: 32px;\n",
              "      padding: 0 0 0 0;\n",
              "      width: 32px;\n",
              "    }\n",
              "\n",
              "    .colab-df-convert:hover {\n",
              "      background-color: #E2EBFA;\n",
              "      box-shadow: 0px 1px 2px rgba(60, 64, 67, 0.3), 0px 1px 3px 1px rgba(60, 64, 67, 0.15);\n",
              "      fill: #174EA6;\n",
              "    }\n",
              "\n",
              "    [theme=dark] .colab-df-convert {\n",
              "      background-color: #3B4455;\n",
              "      fill: #D2E3FC;\n",
              "    }\n",
              "\n",
              "    [theme=dark] .colab-df-convert:hover {\n",
              "      background-color: #434B5C;\n",
              "      box-shadow: 0px 1px 3px 1px rgba(0, 0, 0, 0.15);\n",
              "      filter: drop-shadow(0px 1px 2px rgba(0, 0, 0, 0.3));\n",
              "      fill: #FFFFFF;\n",
              "    }\n",
              "  </style>\n",
              "\n",
              "      <script>\n",
              "        const buttonEl =\n",
              "          document.querySelector('#df-c4c7eb34-0426-4cc1-947e-39a7155738c0 button.colab-df-convert');\n",
              "        buttonEl.style.display =\n",
              "          google.colab.kernel.accessAllowed ? 'block' : 'none';\n",
              "\n",
              "        async function convertToInteractive(key) {\n",
              "          const element = document.querySelector('#df-c4c7eb34-0426-4cc1-947e-39a7155738c0');\n",
              "          const dataTable =\n",
              "            await google.colab.kernel.invokeFunction('convertToInteractive',\n",
              "                                                     [key], {});\n",
              "          if (!dataTable) return;\n",
              "\n",
              "          const docLinkHtml = 'Like what you see? Visit the ' +\n",
              "            '<a target=\"_blank\" href=https://colab.research.google.com/notebooks/data_table.ipynb>data table notebook</a>'\n",
              "            + ' to learn more about interactive tables.';\n",
              "          element.innerHTML = '';\n",
              "          dataTable['output_type'] = 'display_data';\n",
              "          await google.colab.output.renderOutput(dataTable, element);\n",
              "          const docLink = document.createElement('div');\n",
              "          docLink.innerHTML = docLinkHtml;\n",
              "          element.appendChild(docLink);\n",
              "        }\n",
              "      </script>\n",
              "    </div>\n",
              "  </div>\n",
              "  "
            ]
          },
          "metadata": {},
          "execution_count": 223
        }
      ],
      "source": [
        "feature_imp_lgb=pd.DataFrame(list(zip(features,gbm_model.feature_importances_)))\n",
        "column_names_lgb= ['features','LGB_imp']\n",
        "feature_imp_lgb.columns= column_names_lgb\n",
        "\n",
        "feature_imp_lgb= feature_imp_lgb.sort_values('LGB_imp',ascending=False)\n",
        "feature_imp_lgb"
      ]
    },
    {
      "cell_type": "markdown",
      "source": [
        "1. avg_success_rate_goal - cоотношение фактически собранной суммы к среднему значению собранной суммы в данной категории в год запуска проекта\n",
        "\n",
        "2. avg_success_rate_duration\t- соотношение средней суммы пожертвования на одного споснсора и среднего показателя цели в данной категории в год запуска проекта\n",
        "\n",
        "3. duration - срок сбора средств\n",
        "\n",
        "4. usd_goal_real - финансовая цель\n",
        "\n",
        "5. avg_ppb_goal - средняя сумма пожертвования на одного спонсора\n",
        "\n",
        "6. mean_goal_year - средняя финансовая цель в год запуска проекта\n",
        "\n",
        "7. name_len - длина названия в символах\n",
        "\n",
        "8. participants_qtr - количество участников в проекте \n",
        "\n",
        "9. category - категория\n",
        "\n",
        "10. main_category - основная категория\n",
        "\n",
        "11. launched_year - год запуска\n"
      ],
      "metadata": {
        "id": "CyfYA0CwHIYO"
      }
    }
  ],
  "metadata": {
    "colab": {
      "collapsed_sections": [],
      "name": "CoFound_le_kickstarter_lgbm703.ipynb",
      "provenance": [],
      "include_colab_link": true
    },
    "kernelspec": {
      "display_name": "Pyolite",
      "language": "python",
      "name": "python"
    },
    "language_info": {
      "codemirror_mode": {
        "name": "python",
        "version": 3
      },
      "file_extension": ".py",
      "mimetype": "text/x-python",
      "name": "python",
      "nbconvert_exporter": "python",
      "pygments_lexer": "ipython3",
      "version": "3.8"
    }
  },
  "nbformat": 4,
  "nbformat_minor": 0
}